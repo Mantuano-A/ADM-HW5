{
 "cells": [
  {
   "cell_type": "markdown",
   "id": "cc482f6e",
   "metadata": {},
   "source": [
    "# 4. Algorithmic question\n",
    "\n",
    "We need to create an algorithm that given as input a list of k pairs of n kids that may argue, it try to split them in two dormitories."
   ]
  },
  {
   "cell_type": "markdown",
   "id": "9eb1a6e4",
   "metadata": {},
   "source": [
    "To test if it was possible to divide the children into two dormitories, we create an auxilary function **assign_dormitory_to_child** which,given as input:\n",
    "- the current *child*,\n",
    "- the set of *dormitory_1* and *dormitory_2*, \n",
    "- the child with whom he might argue *not_with* \n",
    "- the set of the remaining *children*\n",
    "it outputs whether is possible to *assign* the current *child*, the update of *dormitory_1* and *dormitory_2* and the set of the remaining *children*."
   ]
  },
  {
   "cell_type": "markdown",
   "id": "8093b447",
   "metadata": {},
   "source": [
    "**assign_dormitory_to_child** checks if *child* is already in one of the two dormitories, if not, checks if in *dormitory_1* there is the child with whom he would argue *not_with*, in the negative case add *child* to *dormitory_1*, otherwise try to insert him in *dormitory_2* in the same way."
   ]
  },
  {
   "cell_type": "code",
   "execution_count": 2,
   "id": "0ed49234-75cc-4ecc-b971-969f6ee13175",
   "metadata": {},
   "outputs": [],
   "source": [
    "def assign_dormitory_to_child(child, dormitory_1, dormitory_2, not_with, children):\n",
    "    assign = False\n",
    "    if child not in dormitory_1 and child not in dormitory_2: #if no dormitory has been assigned to child \n",
    "        if not_with in dormitory_1: # if child_2 in dormitory_1, so we put child_1 in dormitory_2\n",
    "            dormitory_2.add(child)\n",
    "        else:\n",
    "            dormitory_1.add(child)\n",
    "        assign = True\n",
    "        # updtating the set with the remaining kids\n",
    "        children.remove(child)\n",
    "    return assign, dormitory_1, dormitory_2, children"
   ]
  },
  {
   "cell_type": "markdown",
   "id": "5d74bdc7",
   "metadata": {},
   "source": [
    "Now that we have a function that tells us which dormitory to assign to a given child, we can try to divide them all into two dormitories."
   ]
  },
  {
   "cell_type": "markdown",
   "id": "76198cb3",
   "metadata": {},
   "source": [
    "The function **create_pair** receives in input the number of kids *n* and the list of pairs of kids arguing *list_pair*, then we try to create the dormitories by scrolling the list. In case we find two children who cannot stay in the same dormitory we return the state of impossibility in creating the dormitories. \n",
    "\n",
    "If we can get all the kids who can fight to the right dormitory, we divide the rest of the children equally between the two dorms."
   ]
  },
  {
   "cell_type": "code",
   "execution_count": 3,
   "id": "cb6ad635-92ec-489e-9c24-bf023140ae48",
   "metadata": {},
   "outputs": [],
   "source": [
    "def create_pair(n, list_pair):\n",
    "    children = {i for i in range(n)} #set of children to be assigned a dormitory \n",
    "    dormitory_1 = set()\n",
    "    dormitory_2 = set()\n",
    "    for child_1, child_2 in list_pair:\n",
    "        # try to assign dormitory to child_1\n",
    "        assign_dormitory_child_1, dormitory_1, dormitory_2, children = assign_dormitory_to_child(child_1, dormitory_1, dormitory_2, child_2, children)\n",
    "        # try to assign dormitory to child_2\n",
    "        assign_dormitory_child_2, dormitory_1, dormitory_2, children = assign_dormitory_to_child(child_2, dormitory_1, dormitory_2, child_1, children)\n",
    "        # if both have not been assigned a dormitory \n",
    "        if not assign_dormitory_child_1 and not assign_dormitory_child_2: \n",
    "            return \"It's not possibile to divide the kids in two dormitories.\"\n",
    "    # dividing the remaining kids equally\n",
    "    for i, child in enumerate(children):\n",
    "        if i % 2 == 0:\n",
    "            dormitory_1.add(child)\n",
    "        else:\n",
    "            dormitory_2.add(child)     \n",
    "    print(\"The kid in the first dormitory are:\", dormitory_1,\"\\nThe kid in the second dormitory are:\", dormitory_2 )"
   ]
  },
  {
   "cell_type": "markdown",
   "id": "269e6954",
   "metadata": {},
   "source": [
    "Lastly we decided to create a random list containing the k pairs, in order to test our algorithm."
   ]
  },
  {
   "cell_type": "code",
   "execution_count": 4,
   "id": "eac0aed3",
   "metadata": {},
   "outputs": [],
   "source": [
    "# generate random integer values\n",
    "from random import seed\n",
    "from random import randint\n",
    "\n",
    "def dislikes(k,n):\n",
    "    dislike = []\n",
    "    # seed random number generator\n",
    "    seed(124)\n",
    "    for _ in range(k):\n",
    "        # generate some integers\n",
    "        x = randint(0, n)\n",
    "        y = randint(0, n)\n",
    "        \n",
    "        while x == y:\n",
    "            y = randint(0, n)\n",
    "            \n",
    "        dislike.append((x,y))\n",
    "    return dislike"
   ]
  },
  {
   "cell_type": "code",
   "execution_count": 9,
   "id": "2ec3d43b-4bb3-4797-90a5-7f964798902d",
   "metadata": {},
   "outputs": [
    {
     "name": "stdout",
     "output_type": "stream",
     "text": [
      "[(8, 17), (0, 5), (1, 13), (8, 11), (1, 10), (5, 12), (9, 13)]\n",
      "The kid in the first dormitory are: {0, 1, 2, 4, 7, 8, 9, 12, 15, 18, 20} \n",
      "The kid in the second dormitory are: {3, 5, 6, 10, 11, 13, 14, 16, 17, 19}\n"
     ]
    }
   ],
   "source": [
    "n,k = 21 ,7\n",
    "l = dislikes(k,n)\n",
    "print(l)\n",
    "create_pair(n,l)"
   ]
  },
  {
   "cell_type": "code",
   "execution_count": 6,
   "id": "eaf3808b-c87d-4b18-ac3c-5c228cf7e3cd",
   "metadata": {},
   "outputs": [
    {
     "name": "stdout",
     "output_type": "stream",
     "text": [
      "The kid in the first dormitory are: {0, 2, 3, 4, 5, 6} \n",
      "The kid in the second dormitory are: {1}\n"
     ]
    }
   ],
   "source": [
    "l = [(0,1), (1,2),(1,3),(1,4),(1,5),(1,6)]\n",
    "create_pair(7,l)"
   ]
  },
  {
   "cell_type": "code",
   "execution_count": 7,
   "id": "f44f4942-2a1b-47e7-bb4f-0ec4a9799b62",
   "metadata": {},
   "outputs": [
    {
     "data": {
      "text/plain": [
       "\"It's not possibile to divide the kids in two dormitories.\""
      ]
     },
     "execution_count": 7,
     "metadata": {},
     "output_type": "execute_result"
    }
   ],
   "source": [
    "l = [(1,2),(1,3),(2,3)]\n",
    "create_pair(4,l)"
   ]
  },
  {
   "cell_type": "markdown",
   "id": "e914e042",
   "metadata": {},
   "source": [
    "### Computational analysis\n",
    "\n",
    "Let’s check the computational cost of our algorithm **create_pair**: "
   ]
  },
  {
   "cell_type": "markdown",
   "id": "6005a47f",
   "metadata": {},
   "source": [
    "First of all we notice that **assign_dormitory_to_child** has a cost equal to $\\theta(1)$, as we are just check if a element is in a set or adding/removing an element."
   ]
  },
  {
   "cell_type": "markdown",
   "id": "b9f4d989",
   "metadata": {},
   "source": [
    "This function is called in a for loop which is repeated for *k* times (the length of *list_pair*), so the first part of the code has a cost equal to $k*\\theta(1)$, that is $\\theta(k)$."
   ]
  },
  {
   "cell_type": "markdown",
   "id": "8539c2d8",
   "metadata": {},
   "source": [
    "The last part of the algorithm consist in a for loop on the remaining kids, that are $n-k$, so this part has a cost equal to $(n-k)*\\theta(1)$, that is $\\theta(n-k)\\simeq\\theta(n)$."
   ]
  },
  {
   "cell_type": "markdown",
   "id": "edae0a6a",
   "metadata": {},
   "source": [
    "In conclusion our algorithm costs: $\\theta(k)+\\theta(n)$."
   ]
  }
 ],
 "metadata": {
  "kernelspec": {
   "display_name": "Python 3",
   "language": "python",
   "name": "python3"
  },
  "language_info": {
   "codemirror_mode": {
    "name": "ipython",
    "version": 3
   },
   "file_extension": ".py",
   "mimetype": "text/x-python",
   "name": "python",
   "nbconvert_exporter": "python",
   "pygments_lexer": "ipython3",
   "version": "3.8.8"
  }
 },
 "nbformat": 4,
 "nbformat_minor": 5
}
