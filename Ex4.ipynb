{
 "cells": [
  {
   "cell_type": "code",
   "execution_count": 1,
   "id": "eac0aed3",
   "metadata": {},
   "outputs": [],
   "source": [
    "# generate random integer values\n",
    "from collections import OrderedDict\n",
    "from random import seed\n",
    "from random import randint\n",
    "\n",
    "\n",
    "def dislikes(k,n):\n",
    "    dislike = []\n",
    "    # seed random number generator\n",
    "    seed(124)\n",
    "    for _ in range(k):\n",
    "        # generate some integers\n",
    "        x = randint(0, n)\n",
    "        y = randint(0, n)\n",
    "        \n",
    "        while x == y:\n",
    "            y = randint(0, n)\n",
    "            \n",
    "        dislike.append((x,y))\n",
    "    return dislike"
   ]
  },
  {
   "cell_type": "code",
   "execution_count": 2,
   "id": "53e0fac9",
   "metadata": {},
   "outputs": [],
   "source": [
    "#creating the dictionary with all the possible fights among the kids\n",
    "def dislikeToKids(dislike):\n",
    "    dic = {}\n",
    "\n",
    "    for l in dislike:\n",
    "        if l[0] not in dic:\n",
    "            dic[l[0]] = [l[1]]\n",
    "        else:\n",
    "            if l[1] not in dic[l[0]]:\n",
    "                dic[l[0]].append(l[1])\n",
    "            \n",
    "        if l[1] not in dic:\n",
    "            dic[l[1]] = [l[0]]\n",
    "        else:\n",
    "            if l[0] not in dic[l[1]]:\n",
    "                dic[l[1]].append(l[0])\n",
    "    return dic"
   ]
  },
  {
   "cell_type": "code",
   "execution_count": 3,
   "id": "2c40468a",
   "metadata": {},
   "outputs": [],
   "source": [
    "def printDorm(l,n):\n",
    "    d = dislikeToKids(l)\n",
    "    #list with kid in dormitory 1\n",
    "    dorm1 = []\n",
    "    #list with kid in dormitory 1\n",
    "    dorm2 = []\n",
    "    #list with kid that fight with the kid in dorm1, so they can't be put in \n",
    "    #the same dormitory\n",
    "    no1 = []\n",
    "    #list with kid that fight with the kid in dorm1\n",
    "    no2 = []\n",
    "    #variable to fill in an uniform way the two dormitories\n",
    "    flag = 1\n",
    "    #boolean flag whether is possible to divide the kids in two dormitories\n",
    "    possible = True\n",
    "    for i in range(n):\n",
    "        #check if i is a problematic kid\n",
    "        if i in d.keys():\n",
    "            #check whether i can't be assigned to dormitory 1\n",
    "            if i not in no1:\n",
    "                dorm1.append(i)\n",
    "                no1.extend(d[i])\n",
    "            else:\n",
    "                #check whether i can't be assigned to dormitory 2, \n",
    "                #if i can't then it's impossible to divide the kids\n",
    "                if i not in no2:\n",
    "                    dorm2.append(i)\n",
    "                    no2.extend(d[i])\n",
    "                else:\n",
    "                    print(\"It's not possibile to divide the kids in two dormitories.\")\n",
    "                    possible = False\n",
    "                    break\n",
    "        #adding i to dormitories evenly\n",
    "        else:\n",
    "            if flag == 1:\n",
    "                dorm1.append(i)\n",
    "                flag = 2\n",
    "            else:\n",
    "                dorm2.append(i)\n",
    "                flag = 1\n",
    "    if possible:\n",
    "        print(\"The kid in the first dormitory are:\", dorm1,\"\\nThe kid in the second dormitory are:\", dorm2 )"
   ]
  },
  {
   "cell_type": "code",
   "execution_count": 4,
   "id": "6f4b5f96",
   "metadata": {},
   "outputs": [
    {
     "name": "stdout",
     "output_type": "stream",
     "text": [
      "[(4, 8), (0, 2)]\n",
      "The kid in the first dormitory are: [0, 1, 4, 5, 7] \n",
      "The kid in the second dormitory are: [2, 3, 6, 8, 9]\n"
     ]
    }
   ],
   "source": [
    "k = 2\n",
    "n = 10\n",
    "l = dislikes(k,n)\n",
    "print(l)\n",
    "printDorm(l,n)"
   ]
  },
  {
   "cell_type": "code",
   "execution_count": 5,
   "id": "17e2a6c6",
   "metadata": {},
   "outputs": [
    {
     "name": "stdout",
     "output_type": "stream",
     "text": [
      "The kid in the first dormitory are: [0, 1] \n",
      "The kid in the second dormitory are: [2, 3]\n"
     ]
    }
   ],
   "source": [
    "l = [(1,2),(1,3)]\n",
    "n = 4\n",
    "printDorm(l,n)"
   ]
  },
  {
   "cell_type": "code",
   "execution_count": null,
   "id": "dee97dd0-0cde-40ee-b814-601c28cbd5a9",
   "metadata": {},
   "outputs": [],
   "source": [
    "l = [(1,2),(1,3),(2,3)]\n",
    "n = 4\n",
    "printDorm(l,n)"
   ]
  },
  {
   "cell_type": "markdown",
   "id": "79fc47c8-a4d5-4c67-b8d0-b03751916b2c",
   "metadata": {},
   "source": [
    "# Version 2"
   ]
  },
  {
   "cell_type": "code",
   "execution_count": 1,
   "id": "0ed49234-75cc-4ecc-b971-969f6ee13175",
   "metadata": {},
   "outputs": [],
   "source": [
    "def assign_dormitory_to_child(child, dormitory_1, dormitory_2, not_with, children):\n",
    "    assign = False\n",
    "    if child not in dormitory_1 and child not in dormitory_2: #if no dormitory has been assigned to child \n",
    "        if not_with in dormitory_1: # if child_2 in dormitory_1, so we put child_1 in dormitory_2\n",
    "            dormitory_2.add(child)\n",
    "        else:\n",
    "            dormitory_1.add(child)\n",
    "        assign = True\n",
    "        children.remove(child)\n",
    "    return assign, dormitory_1, dormitory_2, children"
   ]
  },
  {
   "cell_type": "code",
   "execution_count": 5,
   "id": "cb6ad635-92ec-489e-9c24-bf023140ae48",
   "metadata": {},
   "outputs": [],
   "source": [
    "def create_pair(n, list_pair):\n",
    "    children = {i for i in range(n)} #set of children to be assigned a dormitory \n",
    "    dormitory_1 = set()\n",
    "    dormitory_2 = set()\n",
    "    for child_1, child_2 in list_pair:\n",
    "        # assign dormitory to child_1\n",
    "        assign_dormitory_child_1, dormitory_1, dormitory_2, children = assign_dormitory_to_child(child_1, dormitory_1, dormitory_2, child_2, children)\n",
    "        # assign dormitory to child_2\n",
    "        assign_dormitory_child_2, dormitory_1, dormitory_2, children = assign_dormitory_to_child(child_2, dormitory_1, dormitory_2, child_1, children)\n",
    "        # if both have not been assigned a dormitory \n",
    "        if not assign_dormitory_child_1 and not assign_dormitory_child_2: \n",
    "            return \"It's not possibile to divide the kids in two dormitories.\"\n",
    "    for i, child in enumerate(children):\n",
    "        if i % 2 == 0:\n",
    "            dormitory_1.add(child)\n",
    "        else:\n",
    "            dormitory_2.add(child)     \n",
    "    print(\"The kid in the first dormitory are:\", dormitory_1,\"\\nThe kid in the second dormitory are:\", dormitory_2 )"
   ]
  },
  {
   "cell_type": "code",
   "execution_count": 6,
   "id": "2ec3d43b-4bb3-4797-90a5-7f964798902d",
   "metadata": {},
   "outputs": [
    {
     "name": "stdout",
     "output_type": "stream",
     "text": [
      "The kid in the first dormitory are: {0, 1, 4, 5, 7} \n",
      "The kid in the second dormitory are: {2, 3, 6, 8, 9}\n"
     ]
    }
   ],
   "source": [
    "l = [(4, 8), (0, 2)]\n",
    "n = 10\n",
    "create_pair(n,l)"
   ]
  },
  {
   "cell_type": "code",
   "execution_count": 7,
   "id": "eaf3808b-c87d-4b18-ac3c-5c228cf7e3cd",
   "metadata": {},
   "outputs": [
    {
     "name": "stdout",
     "output_type": "stream",
     "text": [
      "The kid in the first dormitory are: {0, 2} \n",
      "The kid in the second dormitory are: {1}\n"
     ]
    }
   ],
   "source": [
    "l = [(0,1), (1,2)]\n",
    "create_pair(3,l)"
   ]
  },
  {
   "cell_type": "code",
   "execution_count": 8,
   "id": "f44f4942-2a1b-47e7-bb4f-0ec4a9799b62",
   "metadata": {},
   "outputs": [
    {
     "data": {
      "text/plain": [
       "\"It's not possibile to divide the kids in two dormitories.\""
      ]
     },
     "execution_count": 8,
     "metadata": {},
     "output_type": "execute_result"
    }
   ],
   "source": [
    "l = [(1,2),(1,3),(2,3)]\n",
    "create_pair(4,l)"
   ]
  }
 ],
 "metadata": {
  "kernelspec": {
   "display_name": "Python 3 (ipykernel)",
   "language": "python",
   "name": "python3"
  },
  "language_info": {
   "codemirror_mode": {
    "name": "ipython",
    "version": 3
   },
   "file_extension": ".py",
   "mimetype": "text/x-python",
   "name": "python",
   "nbconvert_exporter": "python",
   "pygments_lexer": "ipython3",
   "version": "3.8.1"
  }
 },
 "nbformat": 4,
 "nbformat_minor": 5
}
