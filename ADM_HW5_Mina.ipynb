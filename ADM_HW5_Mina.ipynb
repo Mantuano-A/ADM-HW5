{
 "cells": [
  {
   "cell_type": "code",
   "execution_count": null,
   "metadata": {
    "colab": {
     "base_uri": "https://localhost:8080/"
    },
    "id": "Hx932cVxi7x5",
    "outputId": "05d138f5-8624-4577-be04-b81921b93408"
   },
   "outputs": [],
   "source": [
    "from google.colab import drive\n",
    "drive.mount('/content/drive/')"
   ]
  },
  {
   "cell_type": "code",
   "execution_count": null,
   "metadata": {
    "id": "eSlaXRsOalMA"
   },
   "outputs": [],
   "source": [
    "import utils_function\n",
    "import utils_class"
   ]
  },
  {
   "cell_type": "code",
   "execution_count": null,
   "metadata": {},
   "outputs": [],
   "source": [
    "import matplotlib.pyplot as plt\n",
    "from collections import defaultdict\n",
    "from os.path import splitext\n",
    "from contextlib import contextmanager\n",
    "from pathlib import Path\n",
    "import networkx as nx\n",
    "from decorator import decorator\n",
    "from networkx.utils import create_random_state, create_py_random_state"
   ]
  },
  {
   "cell_type": "code",
   "execution_count": null,
   "metadata": {
    "id": "4t-aon9MVbVI"
   },
   "outputs": [],
   "source": [
    "filename = \"/content/drive/MyDrive/ADM/HW5/\"\n",
    "#filename = \"/content/drive/MyDrive/HW5/\""
   ]
  },
  {
   "cell_type": "markdown",
   "metadata": {},
   "source": [
    "# Homework 5 - Exploring StackOverflow! - Group #19"
   ]
  },
  {
   "cell_type": "markdown",
   "metadata": {},
   "source": [
    "1. Mantuano Andrea 1739874\n",
    "2. Makar Mina 1804475\n",
    "3. Iovino Giuliana 2017512\n"
   ]
  },
  {
   "cell_type": "markdown",
   "metadata": {
    "id": "D7QK_-Jtfnw6"
   },
   "source": [
    "## 1. Data"
   ]
  },
  {
   "cell_type": "markdown",
   "metadata": {},
   "source": [
    "**a2q** contains informations about **Answers to questions** - User u answered user v's question at time t\n",
    "\n",
    "**c2a** contains informations about **Comments to questions** - User u commented on user v's question at time t\n",
    "\n",
    "**c2q** contains informations about **Comments to answers** - User u commented on user v's answer at time t"
   ]
  },
  {
   "cell_type": "code",
   "execution_count": null,
   "metadata": {
    "id": "R1PVo3_ldf5s"
   },
   "outputs": [],
   "source": [
    "a2q = pd.read_csv(filename + 'sx-stackoverflow-a2q.txt.gz', compression='gzip', header=None, sep=' ', quotechar='\"', error_bad_lines=False)\n",
    "c2a = pd.read_csv(filename + 'sx-stackoverflow-c2a.txt.gz', compression='gzip', header=None, sep=' ', quotechar='\"', error_bad_lines=False)\n",
    "c2q = pd.read_csv(filename + 'sx-stackoverflow-c2q.txt.gz', compression='gzip', header=None, sep=' ', quotechar='\"', error_bad_lines=False)"
   ]
  },
  {
   "cell_type": "markdown",
   "metadata": {
    "id": "KtVgYivn5K2t"
   },
   "source": [
    "we trasform timestamp in date."
   ]
  },
  {
   "cell_type": "code",
   "execution_count": null,
   "metadata": {
    "id": "GjeZyA0seSKC"
   },
   "outputs": [],
   "source": [
    "a2q[2] = pd.to_datetime(a2q[2], unit='s').dt.strftime(\"%Y%m%d\").astype(int)\n",
    "c2a[2] = pd.to_datetime(c2a[2], unit='s').dt.strftime(\"%Y%m%d\").astype(int)\n",
    "c2q[2] = pd.to_datetime(c2q[2], unit='s').dt.strftime(\"%Y%m%d\").astype(int)"
   ]
  },
  {
   "cell_type": "markdown",
   "metadata": {
    "id": "SBmxXmlMe9-8"
   },
   "source": [
    "In order to have not loops in the graph, and to have not problems walking along the paths, we preferred to drop the nodes that are linked themselves."
   ]
  },
  {
   "cell_type": "code",
   "execution_count": null,
   "metadata": {
    "id": "pYtB5oAyzM9c"
   },
   "outputs": [],
   "source": [
    "c2q.drop(c2q[c2q[0] == c2q[1]].index, inplace = True)\n",
    "c2a.drop(c2a[c2a[0] == c2a[1]].index, inplace = True)\n",
    "a2q.drop(a2q[a2q[0] == a2q[1]].index, inplace = True)"
   ]
  },
  {
   "cell_type": "markdown",
   "metadata": {
    "id": "bZlHxVY_e5Qt"
   },
   "source": [
    "In order to get an immediate answer we preferred to take a small subset of data over a period of time, in this case all data recorded before 2009."
   ]
  },
  {
   "cell_type": "code",
   "execution_count": null,
   "metadata": {
    "id": "GW8Nb-QSfA5b"
   },
   "outputs": [],
   "source": [
    "subset_a2q = a2q[a2q[2] < 20090101].copy()\n",
    "subset_c2a = c2a[c2a[2] < 20090101].copy()\n",
    "subset_c2q = c2q[c2q[2] < 20090101].copy()"
   ]
  },
  {
   "cell_type": "code",
   "execution_count": null,
   "metadata": {
    "id": "c13mRfh2Rr-1"
   },
   "outputs": [],
   "source": [
    "users = dict()\n",
    "users = create_graph(subset_a2q, \"a2q\", 1, users)\n",
    "users = create_graph(subset_c2a, \"c2a\", 2, users)\n",
    "users = create_graph(subset_c2q, \"c2q\", 3, users)"
   ]
  },
  {
   "cell_type": "code",
   "execution_count": null,
   "metadata": {
    "id": "7JSA_L6jU9Rq"
   },
   "outputs": [],
   "source": [
    "import pickle\n",
    "with open(filename + 'graph.pickle', 'wb') as fp:\n",
    "    pickle.dump(users, fp, pickle.HIGHEST_PROTOCOL)"
   ]
  },
  {
   "cell_type": "markdown",
   "metadata": {
    "id": "_iRljOXMYpnt"
   },
   "source": [
    "### LOAD DATA FROM FILE"
   ]
  },
  {
   "cell_type": "code",
   "execution_count": null,
   "metadata": {
    "id": "XhcAkGSqO94q"
   },
   "outputs": [],
   "source": [
    "import pickle\n",
    "filename = '/content/drive/MyDrive/ADM/HW5/graph.pickle'\n",
    "with open(filename, 'rb') as handle:\n",
    "    graph = pickle.load(handle)"
   ]
  },
  {
   "cell_type": "markdown",
   "metadata": {
    "id": "FqVUEH1KdHNg"
   },
   "source": [
    "## 2. Implementation of the backend"
   ]
  },
  {
   "cell_type": "code",
   "execution_count": null,
   "metadata": {
    "id": "vSt_tWl6dIzL"
   },
   "outputs": [],
   "source": [
    "def call_function(name_graph, i):\n",
    "    if i == 1:\n",
    "        return get_features(name_graph)"
   ]
  },
  {
   "cell_type": "markdown",
   "metadata": {
    "id": "iAfxzxircsae"
   },
   "source": [
    "### Functionality 1 - Get the overall features of the graph"
   ]
  },
  {
   "cell_type": "code",
   "execution_count": null,
   "metadata": {
    "colab": {
     "base_uri": "https://localhost:8080/",
     "height": 467
    },
    "id": "ik5e4xWogK1_",
    "outputId": "484ea641-2a02-4636-c994-2cbce67d7e0a"
   },
   "outputs": [],
   "source": [
    "call_function(\"a2q\", 1)"
   ]
  },
  {
   "cell_type": "markdown",
   "metadata": {},
   "source": [
    "### Functionality 2 - Find the best users!"
   ]
  },
  {
   "cell_type": "markdown",
   "metadata": {},
   "source": [
    "The **PageRank Centrality** of a node **u** is defined as: \n",
    "\n",
    "$$PR(p_{i}) = \\frac{1-d}{N} + d{\\sum_{p_{j} \\in M(p_i)}{\\frac{PR(p_{j})}{L(pj)}}}$$\n",
    "\n",
    "where **d** is the damping factor, $M(p_i)$ is the set of neighbors of the node $p_{i}$, $L(p_{j})$  is the number of outbound edges of the node $p_{j}$ and **N** is the total number of nodes."
   ]
  },
  {
   "cell_type": "code",
   "execution_count": null,
   "metadata": {},
   "outputs": [],
   "source": [
    "def page_rank(graph, source, start, end):\n",
    "    start, end = convertDate(start), convertDate(end)\n",
    "    iterations, d = 100, 0.85\n",
    "    n = len(graph)\n",
    "    get_in_degree_user = {user: getDegree(graph[user].get_in_relation, start, end, False)[1] for user in graph}\n",
    "    get_out_degree_user = {user: getDegree(graph[user].get_out_relation, start, end)[0] for user in graph}\n",
    "    page_rank = {node: 1/n for node in graph}\n",
    "    for iteration in range(iterations):\n",
    "        for user in graph:\n",
    "            sum = 0\n",
    "            in_A = get_in_degree_user[user]\n",
    "            for node in in_A:\n",
    "                sum += page_rank[node] / get_out_degree_user[node]\n",
    "            page_rank[user] = (0.15) / n +  d*sum\n",
    "    return  page_rank"
   ]
  },
  {
   "cell_type": "markdown",
   "metadata": {},
   "source": [
    "The **Degree Centrality** of a node **u** counts how many neighbors a node has. The graph that we are considering is directed and weighted, so we have to calculate two measures: **In-Degree Centrality** and **Out-Degree Centrality**. The **Out-Degree Centrality** for a weighted graph is defined as: \n",
    "\n",
    "$$C_{outD}(u) = \\frac{\\sum_{v=1}^{n} w_{uv}}{N-1}$$\n",
    "\n",
    "where **n** are the nodes that are the number of tail ends adjacent to the node **v**, $w_{uv}$ is the weight of the link between the node **u** and the node **v** and **N-1** is the max possible value of $C_{outD}(u)$."
   ]
  },
  {
   "cell_type": "code",
   "execution_count": null,
   "metadata": {},
   "outputs": [],
   "source": [
    "def degreeCentrality(graph, source, start, end):\n",
    "    start = convertDate(start)\n",
    "    end = convertDate(end)\n",
    "    weight = 0\n",
    "    g = graph[source].get_out_relation\n",
    "    for year in g:\n",
    "        for rel in g[year]:\n",
    "            for edge in g[year][rel]:\n",
    "                weight += edge.weight\n",
    "    return weight/(len(graph)-1)"
   ]
  },
  {
   "cell_type": "markdown",
   "metadata": {},
   "source": [
    "The **Closeness Centrality** of a node **u** is the reciprocal of the average shortest path distance to **u** over all **n-1** nodes.\n",
    "\n",
    "$$C(u) = \\frac{n-1}{\\sum_{v = 1}^{n-1}{d(v,u)}}$$\n",
    "\n",
    "where **n-1** is the number of reachable nodes from **u** and **d(v,u)** is the shortest path distance between the node **u** and the node **v**. \n"
   ]
  },
  {
   "cell_type": "code",
   "execution_count": null,
   "metadata": {},
   "outputs": [],
   "source": [
    "def GetCloseness(graph, source, start, end):\n",
    "    distances = 0\n",
    "    keys = set(graph.keys())\n",
    "    keys.remove((source))\n",
    "    _, cost = myDijkstra(graph, source, start,end)\n",
    "    cost = np.array(list(cost.values()))\n",
    "    position = np.where(cost != float('inf'))[0]\n",
    "    if sum(cost[position]) == 0: return 0\n",
    "    return round((len(position) - 1) / sum(cost[position]),3)"
   ]
  },
  {
   "cell_type": "markdown",
   "metadata": {},
   "source": [
    "The **Betweenness Centrality**  of a node **u** is the sum of the fraction of all-pairs shortest paths that pass through **u**:\n",
    "\n",
    "$$C_{B}(u) = \\sum_{s,t \\in U}{\\frac{\\sigma(s,t|v)}{\\sigma(s,t)}} $$\n",
    "\n",
    "where **U** is the set of nodes, $\\sigma(s,t|u)$ is the number of shortest (s, t)-paths and $\\sigma(s,t)$ is the number of those paths passing through some node **u** other than **s**, **t**."
   ]
  },
  {
   "cell_type": "code",
   "execution_count": null,
   "metadata": {},
   "outputs": [],
   "source": [
    "from tqdm import tqdm\n",
    "def BetweennessCentrality(graph, source, start, end):\n",
    "    st, stv, el = 0, 0, 0\n",
    "    sum = 0\n",
    "    for s, t in tqdm(graph.items()):\n",
    "        if s != source:\n",
    "            prev, dist, path = dijkstraNumShortesPath(graph, s, start, end)\n",
    "            for t in graph:\n",
    "                if  s != t and t != source:\n",
    "                    if prev[t] != -1:\n",
    "                        all_path = allShortPath(prev, t, s, [], all_path=[]) \n",
    "                        freq = freq_(all_path)\n",
    "                        if freq == -1 :\n",
    "                            freq_source = 0\n",
    "                        else:\n",
    "                            freq_source = freq.get(source, 0)\n",
    "                        if t in path:\n",
    "                            sum += (freq_source) / path.get(t, 0)\n",
    "    return round(sum / ((len(graph) -2) * (len(graph) - 1)), 3)"
   ]
  },
  {
   "cell_type": "code",
   "execution_count": null,
   "metadata": {},
   "outputs": [],
   "source": [
    "def functionalitytwo (graph, source, start, end, metric):\n",
    "    if (metric == \"DegreeCentrality\"):\n",
    "        print(\"The Degree Centrality of node\", source, \"is\", degreeCentrality(graph, source, start, end))\n",
    "    if (metric == \"Betweenness\"):\n",
    "        print(\"The Betweenness Centrality of node\", source, \"is\", BetweennessCentralityy(graph, source, start, end))\n",
    "    if (metric == \"Closeness\"):\n",
    "        print(\"The Closeness Centrality of node\", source, \"is\", GetCloseness(graph, source, start, end)\n",
    "    if (metric == \"PageRank\"):\"\n",
    "        print(\"The Page Rank Centrality of node\", source, \"is\", pagerank (graph, source, start,end))"
   ]
  },
  {
   "cell_type": "code",
   "execution_count": null,
   "metadata": {},
   "outputs": [],
   "source": [
    "GetCloseness(graph, 3, \"08/2008\", \"01/2009\")"
   ]
  },
  {
   "cell_type": "markdown",
   "metadata": {
    "id": "rBrbk9eRd7Yy"
   },
   "source": [
    "### Functionality 3 - Shortest Ordered Route"
   ]
  },
  {
   "cell_type": "code",
   "execution_count": null,
   "metadata": {},
   "outputs": [],
   "source": [
    "p_1,p_n = 1, 49\n",
    "orderedRoute = [17]\n",
    "start = \"08/2008\"\n",
    "end = \"12/2008\"\n",
    "\n",
    "with open('graph (1).pickle', 'rb') as handle:\n",
    "    graph = pickle.load(handle)\n",
    "    \n",
    "bestPath, cost = shortestOrderedRoute(graph,start, end,orderedRoute,p_1,p_n)\n",
    "\n",
    "print(\"The shortest ordered route between\", p_1, \"and\", p_n,\"is:\",bestPath, \"\\nand it costs:\", cost)"
   ]
  },
  {
   "cell_type": "markdown",
   "metadata": {},
   "source": [
    "### Functionality 4 - Disconnecting graphs"
   ]
  },
  {
   "cell_type": "code",
   "execution_count": null,
   "metadata": {},
   "outputs": [],
   "source": [
    "def minCut(graph, source, target, start=200808, end=201612):\n",
    "    res = createResidualG(graph)\n",
    "    max_flow = 0\n",
    "    path = dict()\n",
    "\n",
    "    while BFS(res, source, target, path)[0]:\n",
    "        bottleneck = getBottleneck(path, source, target)\n",
    "        max_flow += bottleneck\n",
    "        updateResGraph(res, path, bottleneck, source, target)\n",
    "    \n",
    "    print(\"Max Flow is:\", max_flow)\n",
    "    reachable = reachFromS(res, source) \n",
    "    edges = set()\n",
    "    capacity = 0\n",
    "    for v in reachable:\n",
    "        neighbor = graph[v].get_out_relation\n",
    "        for year in neighbor:\n",
    "            for rel in neighbor[year]:\n",
    "                for i in range(len(neighbor[year][rel])):\n",
    "                    relX = res[v].get_out_relation[year][rel][i]\n",
    "                    rely = graph[v].get_out_relation[year][rel][i]\n",
    "\n",
    "                    if (start <= relX.time <= end) and relX.weight == 0 and relX.target not in reachable and (v, relX.target) not in edges:\n",
    "                        edges.add((v, relX.target))\n",
    "                        capacity += rely.weight \n",
    "                \n",
    "    print(\"Capacity is:\", capacity)\n",
    "    return edges"
   ]
  },
  {
   "cell_type": "markdown",
   "metadata": {},
   "source": [
    "## 3. Implementation of the frontend\n"
   ]
  },
  {
   "cell_type": "code",
   "execution_count": null,
   "metadata": {},
   "outputs": [],
   "source": [
    "G = graph_to_networkx(graph, 'all')"
   ]
  },
  {
   "cell_type": "markdown",
   "metadata": {},
   "source": [
    "### Visualization 1 - Visualize the overall features of the graph"
   ]
  },
  {
   "cell_type": "code",
   "execution_count": null,
   "metadata": {},
   "outputs": [],
   "source": [
    "nx.density(G)\n",
    "degrees = [G.degree(n) for n in G.nodes()]\n",
    "plt.hist(degrees)\n",
    "plt.show()"
   ]
  },
  {
   "cell_type": "markdown",
   "metadata": {},
   "source": [
    "### Visualization 2 - Visualize the best user!"
   ]
  },
  {
   "cell_type": "code",
   "execution_count": null,
   "metadata": {},
   "outputs": [],
   "source": [
    "def plotgraph(graph, node, start, end):\n",
    "    neigh = getNeighbors(node, graph, start, end)\n",
    "    neighlist = list(neigh)\n",
    "    nodes = neighlist + [node]\n",
    "    graph = graph_to_networkx(graph, \"all\")\n",
    "    sub = graph.subgraph(nodes)\n",
    "    pos = nx.spring_layout(sub, k = 1, iterations = 20)  \n",
    "    plt.figure(figsize=(25,10))\n",
    "    labels = nx.draw_networkx_labels(sub, pos= pos, alpha = 1)\n",
    "    nx.draw_networkx_nodes(sub, pos, node_size= 800, node_color='green', alpha = 0.7, label = labels)\n",
    "    nx.draw_networkx_nodes(sub, pos, node_size= 1000, nodelist = [node], node_color='red', alpha = 0.7, label = labels)\n",
    "    nx.draw_networkx_edges(sub, pos, width=0.8, alpha = 0.8, edge_color=\"dimgrey\",  arrowsize=15, node_size = 1000)\n",
    "    plt.title(\"Neighbors of node {}\".format(node), fontsize = 20)\n",
    "    plt.axis(\"off\")\n",
    "    plt.show()"
   ]
  },
  {
   "cell_type": "code",
   "execution_count": null,
   "metadata": {},
   "outputs": [],
   "source": [
    "import datetime\n",
    "def equi_intervals(start_date, end_date, N):\n",
    "    # initializing dates\n",
    "    test_date1 = datetime.datetime.strptime(start_date, '%m/%Y')\n",
    "    test_date2 = datetime.datetime.strptime(end_date, '%m/%Y')\n",
    "\n",
    "    N = N\n",
    "    temp = []\n",
    "\n",
    "    # getting diff.\n",
    "    diff = ( test_date2 - test_date1) // N\n",
    "    for idx in range(0, N):\n",
    "\n",
    "        # computing new dates\n",
    "        temp.append((test_date1 + idx * diff))\n",
    "\n",
    "    res = []\n",
    "    for sub in temp:\n",
    "        res.append(sub.strftime('%m/%Y'))\n",
    "\n",
    "    # printing result\n",
    "    return res + [end_date]"
   ]
  },
  {
   "cell_type": "code",
   "execution_count": null,
   "metadata": {},
   "outputs": [],
   "source": [
    "def plotmetric(graph, node, start, end, metrica, n):\n",
    "    intervals = equi_intervals(start, end, n)\n",
    "    metric = list()\n",
    "    for i in range(n):\n",
    "    metric.append(metrics(graph, node, intervals[i], intervals[i+1], metrica))\n",
    "    interv = [f\"{[intervals[i],intervals[i+1]]}\" for i in range(n)]\n",
    "    plt.bar(interv, metric)\n",
    "    plt.xticks(rotation=90)\n",
    "    plt.show()"
   ]
  },
  {
   "cell_type": "code",
   "execution_count": null,
   "metadata": {},
   "outputs": [],
   "source": [
    "plotgraph(graph, 1, \"08/2008\", \"08/2008\")"
   ]
  },
  {
   "cell_type": "markdown",
   "metadata": {},
   "source": [
    "# 4. Algorithmic question\n",
    "\n",
    "We need to create an algorithm that given as input a list of k pairs of n kids that may argue, it try to split them in two dormitories."
   ]
  },
  {
   "cell_type": "markdown",
   "metadata": {},
   "source": [
    "To test if it was possible to divide the children into two dormitories, we create an auxilary function **assign_dormitory_to_child** which,given as input:\n",
    "- the current *child*,\n",
    "- the set of *dormitory_1* and *dormitory_2*, \n",
    "- the child with whom he might argue *not_with* \n",
    "- the set of the remaining *children*\n",
    "it outputs whether is possible to *assign* the current *child*, the update of *dormitory_1* and *dormitory_2* and the set of the remaining *children*."
   ]
  },
  {
   "cell_type": "markdown",
   "metadata": {},
   "source": [
    "**assign_dormitory_to_child** checks if *child* is already in one of the two dormitories, if not, checks if in *dormitory_1* there is already the child with whom he would figth with (*not_with*), in the positive case add *child* to *dormitory_2*, otherwise try to insert him in *dormitory_1*."
   ]
  },
  {
   "cell_type": "code",
   "execution_count": null,
   "metadata": {},
   "outputs": [],
   "source": [
    "def assign_dormitory_to_child(child, dormitory_1, dormitory_2, not_with, children):\n",
    "    assign = False\n",
    "    if child not in dormitory_1 and child not in dormitory_2: #if no dormitory has been assigned to child \n",
    "        if not_with in dormitory_1: # if child_2 in dormitory_1, so we put child_1 in dormitory_2\n",
    "            dormitory_2.add(child)\n",
    "        else:\n",
    "            dormitory_1.add(child)\n",
    "        assign = True\n",
    "        # updtating the set with the remaining kids\n",
    "        children.remove(child)\n",
    "    return assign, dormitory_1, dormitory_2, children"
   ]
  },
  {
   "cell_type": "markdown",
   "metadata": {},
   "source": [
    "The function **create_pair** receives in input the number of kids *n* and the list of pairs of kids arguing *list_pair*, then we try to create the dormitories by scrolling the list. In case we find two children who cannot stay in the same dormitory we return the state of impossibility in creating the dormitories. \n",
    "\n",
    "If we can get all the kids who can fight to the right dormitory, we divide the rest of the children equally between the two dorms."
   ]
  },
  {
   "cell_type": "code",
   "execution_count": null,
   "metadata": {},
   "outputs": [],
   "source": [
    "def create_pair(n, list_pair):\n",
    "    children = {i for i in range(n)} #set of children to be assigned a dormitory \n",
    "    dormitory_1 = set()\n",
    "    dormitory_2 = set()\n",
    "    for child_1, child_2 in list_pair:\n",
    "        # check if (child_1, child_2) it's repeating and the two kids have already been placed in the right dorm \n",
    "        if (child_1 in dormitory_1 and child_2 in dormitory_2) or (child_1 in dormitory_2 and child_2 in dormitory_1):\n",
    "            continue\n",
    "        else:\n",
    "            # try to assign dormitory to child_1\n",
    "            assign_dormitory_child_1, dormitory_1, dormitory_2, children = assign_dormitory_to_child(child_1, dormitory_1, dormitory_2, child_2, children)\n",
    "            # try to assign dormitory to child_2\n",
    "            assign_dormitory_child_2, dormitory_1, dormitory_2, children = assign_dormitory_to_child(child_2, dormitory_1, dormitory_2, child_1, children)\n",
    "            # if both have not been assigned a dormitory \n",
    "            if not assign_dormitory_child_1 and not assign_dormitory_child_2: \n",
    "                return \"It's not possibile to divide the kids in two dormitories.\"\n",
    "    # dividing the remaining kids equally\n",
    "    for i, child in enumerate(children):\n",
    "        if i % 2 == 0:\n",
    "            dormitory_1.add(child)\n",
    "        else:\n",
    "            dormitory_2.add(child)     \n",
    "    print(\"The kid in the first dormitory are:\", dormitory_1,\"\\nThe kid in the second dormitory are:\", dormitory_2 )"
   ]
  },
  {
   "cell_type": "markdown",
   "metadata": {},
   "source": [
    "Lastly we decided to create a random list containing the k pairs, in order to test our algorithm."
   ]
  },
  {
   "cell_type": "code",
   "execution_count": null,
   "metadata": {},
   "outputs": [],
   "source": [
    "# generate random integer values\n",
    "from random import seed\n",
    "from random import randint\n",
    "\n",
    "def dislikes(k,n):\n",
    "    dislike = []\n",
    "    # seed random number generator\n",
    "    seed(124)\n",
    "    for _ in range(k):\n",
    "        # generate some integers\n",
    "        x = randint(0, n)\n",
    "        y = randint(0, n)\n",
    "        \n",
    "        while x == y:\n",
    "            y = randint(0, n)\n",
    "            \n",
    "        dislike.append((x,y))\n",
    "    return dislike"
   ]
  },
  {
   "cell_type": "code",
   "execution_count": null,
   "metadata": {},
   "outputs": [],
   "source": [
    "n,k = 21 ,7\n",
    "l = dislikes(k,n)\n",
    "print(l)\n",
    "create_pair(n,l)"
   ]
  },
  {
   "cell_type": "code",
   "execution_count": null,
   "metadata": {},
   "outputs": [],
   "source": [
    "l = [(0,1), (1,2),(1,3),(1,4),(1,5),(1,6)]\n",
    "create_pair(7,l)"
   ]
  },
  {
   "cell_type": "code",
   "execution_count": null,
   "metadata": {},
   "outputs": [],
   "source": [
    "l = [(1,2),(1,3),(2,3)]\n",
    "create_pair(4,l)"
   ]
  },
  {
   "cell_type": "code",
   "execution_count": null,
   "metadata": {},
   "outputs": [],
   "source": [
    "l = [(0,1),(1,0),(2,3),(4,5),(6,7)]\n",
    "create_pair(8,l)"
   ]
  },
  {
   "cell_type": "markdown",
   "metadata": {
    "tags": []
   },
   "source": [
    "### Computational analysis\n",
    "\n",
    "Let’s check the computational cost of our algorithm **create_pair**: "
   ]
  },
  {
   "cell_type": "markdown",
   "metadata": {},
   "source": [
    "First of all we notice that **assign_dormitory_to_child** has a cost approximated to $\\theta(1)$, because we are just checking if a element is in a set or adding/removing an element from it and that has a cost equal to $\\theta(1)$. Therefore the cost of the whole algorithm is equal to $6*\\theta(1) = \\theta(6)$, but asymptotically it is $\\,\\simeq\\theta(1)$."
   ]
  },
  {
   "cell_type": "markdown",
   "metadata": {},
   "source": [
    "This function is called in a for loop which is repeated for *k* times (the length of *list_pair*), so the first part of the code has a cost equal to $k*\\theta(1)$, that is $\\theta(k)$."
   ]
  },
  {
   "cell_type": "markdown",
   "metadata": {},
   "source": [
    "The last part of the algorithm consist in a for loop on the remaining kids, that are $n-k$, so this part has a cost equal to $(n-k)*\\theta(1)$, that is $\\theta(n-k)\\simeq\\theta(n)$."
   ]
  },
  {
   "cell_type": "markdown",
   "metadata": {},
   "source": [
    "In conclusion our algorithm costs: $2*\\theta(k)+\\theta(n) = \\theta(2k)+\\theta(n) \\simeq \\theta(k)+\\theta(n)$."
   ]
  }
 ],
 "metadata": {
  "application/vnd.databricks.v1+notebook": {
   "dashboards": [],
   "language": "python",
   "notebookMetadata": {
    "pythonIndentUnit": 2
   },
   "notebookName": "Classification",
   "notebookOrigID": 3966539020232142,
   "widgets": {}
  },
  "colab": {
   "collapsed_sections": [],
   "machine_shape": "hm",
   "name": "ADM HW5_Mina.ipynb",
   "provenance": []
  },
  "kernelspec": {
   "display_name": "Python 3",
   "language": "python",
   "name": "python3"
  },
  "language_info": {
   "codemirror_mode": {
    "name": "ipython",
    "version": 3
   },
   "file_extension": ".py",
   "mimetype": "text/x-python",
   "name": "python",
   "nbconvert_exporter": "python",
   "pygments_lexer": "ipython3",
   "version": "3.8.8"
  }
 },
 "nbformat": 4,
 "nbformat_minor": 4
}
