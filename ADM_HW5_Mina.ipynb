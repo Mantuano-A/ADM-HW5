{
  "nbformat": 4,
  "nbformat_minor": 0,
  "metadata": {
    "colab": {
      "name": "ADM HW5_Mina.ipynb",
      "provenance": [],
      "collapsed_sections": [],
      "machine_shape": "hm"
    },
    "kernelspec": {
      "name": "python3",
      "display_name": "Python 3"
    },
    "application/vnd.databricks.v1+notebook": {
      "notebookName": "Classification",
      "dashboards": [],
      "notebookMetadata": {
        "pythonIndentUnit": 2
      },
      "language": "python",
      "widgets": {},
      "notebookOrigID": 3966539020232142
    }
  },
  "cells": [
    {
      "cell_type": "code",
      "metadata": {
        "colab": {
          "base_uri": "https://localhost:8080/"
        },
        "id": "Hx932cVxi7x5",
        "outputId": "f70c559a-8c95-41d2-8d17-03c8a1ee4f19"
      },
      "source": [
        "from google.colab import drive\n",
        "drive.mount('/content/drive/')"
      ],
      "execution_count": null,
      "outputs": [
        {
          "output_type": "stream",
          "name": "stdout",
          "text": [
            "Mounted at /content/drive/\n"
          ]
        }
      ]
    },
    {
      "cell_type": "code",
      "metadata": {
        "id": "eSlaXRsOalMA"
      },
      "source": [
        "import pandas as pd\n",
        "import numpy as np\n",
        "import matplotlib.pyplot as plt\n",
        "import gzip\n",
        "import json\n",
        "import time\n",
        "from datetime import datetime\n",
        "\n",
        "import warnings\n",
        "warnings.filterwarnings(\"ignore\")"
      ],
      "execution_count": null,
      "outputs": []
    },
    {
      "cell_type": "code",
      "source": [
        "#filename = \"/content/drive/MyDrive/ADM/HW5/\"\n",
        "filename = \"/content/drive/MyDrive/HW5/\""
      ],
      "metadata": {
        "id": "4t-aon9MVbVI"
      },
      "execution_count": null,
      "outputs": []
    },
    {
      "cell_type": "markdown",
      "source": [
        "# Exercise 1"
      ],
      "metadata": {
        "id": "D7QK_-Jtfnw6"
      }
    },
    {
      "cell_type": "markdown",
      "source": [
        "### READ DATA"
      ],
      "metadata": {
        "id": "mkDNkBXmmz1H"
      }
    },
    {
      "cell_type": "code",
      "metadata": {
        "id": "R1PVo3_ldf5s"
      },
      "source": [
        "a2q = pd.read_csv(filename + 'sx-stackoverflow-a2q.txt.gz', compression='gzip', header=None, sep=' ', quotechar='\"', error_bad_lines=False)\n",
        "c2a = pd.read_csv(filename + 'sx-stackoverflow-c2a.txt.gz', compression='gzip', header=None, sep=' ', quotechar='\"', error_bad_lines=False)\n",
        "c2q = pd.read_csv(filename + 'sx-stackoverflow-c2q.txt.gz', compression='gzip', header=None, sep=' ', quotechar='\"', error_bad_lines=False)"
      ],
      "execution_count": null,
      "outputs": []
    },
    {
      "cell_type": "markdown",
      "metadata": {
        "id": "KtVgYivn5K2t"
      },
      "source": [
        "###Trasform timestamp in date"
      ]
    },
    {
      "cell_type": "code",
      "metadata": {
        "id": "GjeZyA0seSKC"
      },
      "source": [
        "a2q[2] = pd.to_datetime(a2q[2], unit='s').dt.strftime(\"%Y%m%d\").astype(int)\n",
        "c2a[2] = pd.to_datetime(c2a[2], unit='s').dt.strftime(\"%Y%m%d\").astype(int)\n",
        "c2q[2] = pd.to_datetime(c2q[2], unit='s').dt.strftime(\"%Y%m%d\").astype(int)"
      ],
      "execution_count": null,
      "outputs": []
    },
    {
      "cell_type": "markdown",
      "source": [
        "### Drop edge on themselve"
      ],
      "metadata": {
        "id": "GYUvQL51f-iY"
      }
    },
    {
      "cell_type": "code",
      "source": [
        "c2q.drop(c2q[c2q[0] == c2q[1]].index, inplace = True)\n",
        "c2a.drop(c2a[c2a[0] == c2a[1]].index, inplace = True)\n",
        "a2q.drop(a2q[a2q[0] == a2q[1]].index, inplace = True)"
      ],
      "metadata": {
        "id": "pYtB5oAyzM9c"
      },
      "execution_count": null,
      "outputs": []
    },
    {
      "cell_type": "markdown",
      "source": [
        "### Subset of dataset"
      ],
      "metadata": {
        "id": "0YMGlf0qfe0z"
      }
    },
    {
      "cell_type": "code",
      "source": [
        "subset_a2q = a2q[a2q[2] < 20090101].copy()\n",
        "subset_c2a = c2a[c2a[2] < 20090101].copy()\n",
        "subset_c2q = c2q[c2q[2] < 20090101].copy()"
      ],
      "metadata": {
        "id": "GW8Nb-QSfA5b"
      },
      "execution_count": null,
      "outputs": []
    },
    {
      "cell_type": "code",
      "metadata": {
        "colab": {
          "base_uri": "https://localhost:8080/",
          "height": 35
        },
        "id": "ID5UBnA3nELH",
        "outputId": "3253f5f6-0afb-4463-b618-049711ab3e40"
      },
      "source": [
        "str(a2q[2].head(1)[0])[:-2]"
      ],
      "execution_count": null,
      "outputs": [
        {
          "output_type": "execute_result",
          "data": {
            "application/vnd.google.colaboratory.intrinsic+json": {
              "type": "string"
            },
            "text/plain": [
              "'200808'"
            ]
          },
          "metadata": {},
          "execution_count": 14
        }
      ]
    },
    {
      "cell_type": "code",
      "source": [
        "class Relation:\n",
        "    def __init__(self, type_relation, time, source, target, weight):\n",
        "        self.type_relation_ = type_relation\n",
        "        self.time_ = time\n",
        "        self.source_ = source.get_ID\n",
        "        self.target_ = target.get_ID\n",
        "        self.weight_ = weight\n",
        "\n",
        "    @property\n",
        "    def get_type(self):\n",
        "        return self.type_relation_\n",
        "    \n",
        "    @property\n",
        "    def time(self):\n",
        "        return self.time_\n",
        "    \n",
        "    @property\n",
        "    def target(self):\n",
        "        return self.target_\n",
        "    \n",
        "    @property\n",
        "    def source(self):\n",
        "        return self.source_\n",
        "    \n",
        "    def set_weight(self, weight):\n",
        "        self.weight_ = weight\n",
        "    \n",
        "    @property\n",
        "    def weight(self):\n",
        "        return self.weight_\n",
        "    \n",
        "    def __str__(self): \n",
        "        return \"{\\\"type_relation\\\": \\\"\" + self.type_relation_ + \"\\\", \\\"time\\\": \" + str(self.time_) + \", \\\"source\\\": \" + str(self.source_) + \", \\\"target\\\": \" + \\\n",
        "        str(self.target_) + \", \\\"weight\\\": \"+ str(self.weight_) + \"}\"\n",
        "    \n",
        "    def __repr__(self): \n",
        "        return self.__str__()\n",
        "     \n",
        "\n",
        "class User:\n",
        "    def __init__(self, ID_user):\n",
        "        self.ID_user = ID_user\n",
        "        self.in_relation = dict()\n",
        "        self.out_relation = dict()\n",
        "\n",
        "    def add_in_relation(self, in_relation):\n",
        "        if in_relation.time in self.in_relation:\n",
        "            if in_relation.get_type not in self.in_relation[in_relation.time]:\n",
        "                self.in_relation[in_relation.time][in_relation.get_type] = []\n",
        "        else:\n",
        "            self.in_relation[in_relation.time] = {in_relation.get_type: []}\n",
        "        self.in_relation[in_relation.time][in_relation.get_type].append(in_relation)\n",
        "\n",
        "    \n",
        "    def add_out_relation(self, out_relation):\n",
        "        if out_relation.time in self.out_relation:\n",
        "            if out_relation.get_type not in self.out_relation[out_relation.time]:\n",
        "                self.out_relation[out_relation.time][out_relation.get_type] = []\n",
        "        else:\n",
        "            self.out_relation[out_relation.time] = {out_relation.get_type: []}\n",
        "        self.out_relation[out_relation.time][out_relation.get_type].append(out_relation)\n",
        "    \n",
        "    def set_in_relation(self, inRelations):\n",
        "        self.in_relation = inRelations\n",
        "    \n",
        "    def set_out_relation(self, outRelation):\n",
        "        self.out_relation = outRelation\n",
        "\n",
        "    @classmethod\n",
        "    def from_json(cls, json):\n",
        "        return cls(json[\"ID_user\"])\n",
        "    \n",
        "    @property\n",
        "    def get_ID(self):\n",
        "        return self.ID_user\n",
        "\n",
        "    @property\n",
        "    def get_in_relation(self):\n",
        "        return self.in_relation\n",
        "    \n",
        "    @property\n",
        "    def get_out_relation(self):\n",
        "        return self.out_relation\n",
        "\n",
        "    def __str__(self):\n",
        "        return \"{\\\"in_relation\\\": \" + str(self.in_relation) +  \", \\\"out_relation\\\": \" + str(self.out_relation) + \"}\"\n",
        "\n",
        "    def to_json(self):\n",
        "        return {\"in_relation\": self.in_relation, \"out_relation\":self.out_relation }\n",
        "\n",
        "    def __repr__(self): \n",
        "        return self.__str__()"
      ],
      "metadata": {
        "id": "VJP1TBsUYl-5"
      },
      "execution_count": null,
      "outputs": []
    },
    {
      "cell_type": "code",
      "source": [
        "def get_user(user, dict_users):\n",
        "    if user not in dict_users:\n",
        "        user_obj = User(user)\n",
        "        dict_users[user] = user_obj\n",
        "    return dict_users[user], dict_users"
      ],
      "metadata": {
        "id": "eVk5FLk4kvBC"
      },
      "execution_count": null,
      "outputs": []
    },
    {
      "cell_type": "code",
      "source": [
        "def create_graph(df, type_node, weight, users):\n",
        "    for index, row in df.iterrows():\n",
        "        year_month = int(str(row[2])[:-2])\n",
        "        source_ = int(row[1])\n",
        "        target_ = int(row[0])\n",
        "        source, users = get_user(source_, users)\n",
        "        target, users = get_user(target_, users)\n",
        "        rel = Relation(type_node, year_month, source, target, weight)\n",
        "        users[target_].add_in_relation(rel)\n",
        "        users[source_].add_out_relation(rel)    \n",
        "    return users"
      ],
      "metadata": {
        "id": "Ulio73VRQndG"
      },
      "execution_count": null,
      "outputs": []
    },
    {
      "cell_type": "code",
      "source": [
        "users = dict()\n",
        "users = create_graph(subset_a2q, \"a2q\", 1, users)\n",
        "users = create_graph(subset_c2a, \"c2a\", 2, users)\n",
        "users = create_graph(subset_c2q, \"c2q\", 3, users)"
      ],
      "metadata": {
        "id": "c13mRfh2Rr-1"
      },
      "execution_count": null,
      "outputs": []
    },
    {
      "cell_type": "code",
      "source": [
        "import pickle\n",
        "with open(filename + 'graph.pickle', 'wb') as fp:\n",
        "    pickle.dump(users, fp, pickle.HIGHEST_PROTOCOL)"
      ],
      "metadata": {
        "id": "7JSA_L6jU9Rq"
      },
      "execution_count": null,
      "outputs": []
    },
    {
      "cell_type": "markdown",
      "source": [
        "# LOAD DATA FROM FILE"
      ],
      "metadata": {
        "id": "_iRljOXMYpnt"
      }
    },
    {
      "cell_type": "code",
      "source": [
        "import pickle\n",
        "filename = '/content/drive/MyDrive/HW5/graph.pickle'\n",
        "with open(filename, 'rb') as handle:\n",
        "    graph = pickle.load(handle)"
      ],
      "metadata": {
        "id": "XhcAkGSqO94q"
      },
      "execution_count": null,
      "outputs": []
    },
    {
      "cell_type": "code",
      "source": [
        "graph[3].get_in_relation[200808]['a2q']"
      ],
      "metadata": {
        "colab": {
          "base_uri": "https://localhost:8080/"
        },
        "id": "pDDeBx0BZOdG",
        "outputId": "986ae29c-28b3-4193-f943-79cd7769ccec"
      },
      "execution_count": null,
      "outputs": [
        {
          "output_type": "execute_result",
          "data": {
            "text/plain": [
              "[{\"type_relation\": \"a2q\", \"time\": 200808, \"source\": 2, \"target\": 3, \"weight\": 1},\n",
              " {\"type_relation\": \"a2q\", \"time\": 200808, \"source\": 230, \"target\": 3, \"weight\": 1},\n",
              " {\"type_relation\": \"a2q\", \"time\": 200808, \"source\": 257, \"target\": 3, \"weight\": 1},\n",
              " {\"type_relation\": \"a2q\", \"time\": 200808, \"source\": 1223, \"target\": 3, \"weight\": 1},\n",
              " {\"type_relation\": \"a2q\", \"time\": 200808, \"source\": 1414, \"target\": 3, \"weight\": 1}]"
            ]
          },
          "metadata": {},
          "execution_count": 10
        }
      ]
    },
    {
      "cell_type": "code",
      "source": [
        "graph[3].get_in_relation[200808]['a2q'][0].set_weight(6)"
      ],
      "metadata": {
        "id": "6ywnRiGyZADq"
      },
      "execution_count": null,
      "outputs": []
    },
    {
      "cell_type": "code",
      "source": [
        "graph[3].get_in_relation[200808]['a2q'][0]"
      ],
      "metadata": {
        "colab": {
          "base_uri": "https://localhost:8080/"
        },
        "id": "25O9-AmiYKzS",
        "outputId": "d8e36042-2100-4c14-c10a-56b17947d64e"
      },
      "execution_count": null,
      "outputs": [
        {
          "output_type": "execute_result",
          "data": {
            "text/plain": [
              "{\"type_relation\": \"a2q\", \"time\": 200808, \"source\": 2, \"target\": 3, \"weight\": 6}"
            ]
          },
          "metadata": {},
          "execution_count": 56
        }
      ]
    },
    {
      "cell_type": "code",
      "source": [
        "graph[2].get_out_relation#[200808]['a2q']"
      ],
      "metadata": {
        "colab": {
          "base_uri": "https://localhost:8080/"
        },
        "id": "MfprnNnFajP8",
        "outputId": "29f408b1-340b-4bda-a339-b57cebf94d05"
      },
      "execution_count": null,
      "outputs": [
        {
          "output_type": "execute_result",
          "data": {
            "text/plain": [
              "{200808: {'a2q': [{\"type_relation\": \"a2q\", \"time\": 200808, \"source\": 2, \"target\": 48, \"weight\": 1},\n",
              "   {\"type_relation\": \"a2q\", \"time\": 200808, \"source\": 2, \"target\": 60, \"weight\": 1},\n",
              "   {\"type_relation\": \"a2q\", \"time\": 200808, \"source\": 2, \"target\": 144, \"weight\": 1},\n",
              "   {\"type_relation\": \"a2q\", \"time\": 200808, \"source\": 2, \"target\": 227, \"weight\": 1},\n",
              "   {\"type_relation\": \"a2q\", \"time\": 200808, \"source\": 2, \"target\": 3, \"weight\": 1},\n",
              "   {\"type_relation\": \"a2q\", \"time\": 200808, \"source\": 2, \"target\": 721, \"weight\": 1},\n",
              "   {\"type_relation\": \"a2q\", \"time\": 200808, \"source\": 2, \"target\": 5, \"weight\": 1},\n",
              "   {\"type_relation\": \"a2q\", \"time\": 200808, \"source\": 2, \"target\": 960, \"weight\": 1},\n",
              "   {\"type_relation\": \"a2q\", \"time\": 200808, \"source\": 2, \"target\": 3254, \"weight\": 1}]},\n",
              " 200809: {'a2q': [{\"type_relation\": \"a2q\", \"time\": 200809, \"source\": 2, \"target\": 10117, \"weight\": 1},\n",
              "   {\"type_relation\": \"a2q\", \"time\": 200809, \"source\": 2, \"target\": 15487, \"weight\": 1},\n",
              "   {\"type_relation\": \"a2q\", \"time\": 200809, \"source\": 2, \"target\": 16668, \"weight\": 1}]},\n",
              " 200810: {'a2q': [{\"type_relation\": \"a2q\", \"time\": 200810, \"source\": 2, \"target\": 27057, \"weight\": 1},\n",
              "   {\"type_relation\": \"a2q\", \"time\": 200810, \"source\": 2, \"target\": 419, \"weight\": 1},\n",
              "   {\"type_relation\": \"a2q\", \"time\": 200810, \"source\": 2, \"target\": 20486, \"weight\": 1}]},\n",
              " 200812: {'a2q': [{\"type_relation\": \"a2q\", \"time\": 200812, \"source\": 2, \"target\": 47961, \"weight\": 1}]}}"
            ]
          },
          "metadata": {},
          "execution_count": 11
        }
      ]
    },
    {
      "cell_type": "markdown",
      "source": [
        "# EX 2"
      ],
      "metadata": {
        "id": "FqVUEH1KdHNg"
      }
    },
    {
      "cell_type": "code",
      "source": [
        "def call_function(name_graph, i):\n",
        "    if i == 1:\n",
        "        return get_features(name_graph)"
      ],
      "metadata": {
        "id": "vSt_tWl6dIzL"
      },
      "execution_count": null,
      "outputs": []
    },
    {
      "cell_type": "markdown",
      "source": [
        "# EX 2.1"
      ],
      "metadata": {
        "id": "iAfxzxircsae"
      }
    },
    {
      "cell_type": "code",
      "source": [
        "s = {1,2,3,4}"
      ],
      "metadata": {
        "colab": {
          "base_uri": "https://localhost:8080/"
        },
        "id": "6P6M2nabnaY9",
        "outputId": "15a8df10-245b-4a07-8a62-30ee2e5218a7"
      },
      "execution_count": null,
      "outputs": [
        {
          "output_type": "execute_result",
          "data": {
            "text/plain": [
              "True"
            ]
          },
          "metadata": {},
          "execution_count": 73
        }
      ]
    },
    {
      "cell_type": "code",
      "source": [
        "import plotly.graph_objects as go"
      ],
      "metadata": {
        "id": "1O1fYie6n0c3"
      },
      "execution_count": null,
      "outputs": []
    },
    {
      "cell_type": "code",
      "source": [
        "def get_features(name_graph):\n",
        "    type_graph = \"directed\"\n",
        "    users = set()\n",
        "    number_rel = 0 \n",
        "    for user in graph:\n",
        "        for year in graph[user].get_out_relation:\n",
        "            if name_graph in graph[user].get_out_relation[year]:\n",
        "                for relation in graph[user].get_out_relation[year][name_graph]:\n",
        "                    users.add(relation.target)\n",
        "                    users.add(relation.source)\n",
        "                    number_rel += 1\n",
        "\n",
        "    average_link_user = round(number_rel / len(users), 1)\n",
        "    density_degree = round(number_rel / (len(users) * (len(users) - 1)), 2)\n",
        "    rowEvenColor = 'lightgrey'\n",
        "    rowOddColor = 'white'\n",
        "    type_graph = \"DENSE\" if density_degree >= 0.5 else \"SPARSE\"\n",
        "    first =  [\"Directed\", \"Number of users\", \"Number of answers/comments\", \"Average number of links per user\", \"Density degree of the graph\", \"Type of graph\"]\n",
        "    second = [\"True\", str(len(users)), str(number_rel), str(average_link_user), str(density_degree), type_graph]\n",
        "\n",
        "    fig = go.Figure(data=[go.Table(\n",
        "                header=dict(values= [\"Request\", \"Response\"], line_color='darkslategray', align=['left','center'],\n",
        "                    fill_color='grey', font=dict(color='black', size=11)\n",
        "                    ), \n",
        "                cells = dict(values=[first, second], line_color='darkslategray',\n",
        "                        fill_color = [[rowOddColor,rowEvenColor,rowOddColor, rowEvenColor,rowOddColor, rowEvenColor]*2],font=dict(color='darkslategray', size=11),\n",
        "                         align=['left', 'center'])\n",
        "                                  )    \n",
        "                         ])\n",
        "    \n",
        "    fig.update_layout(width=400, height=450)\n",
        "    fig.show(width=300, height=200)\n",
        "\n",
        "    #return len(users)"
      ],
      "metadata": {
        "id": "MTucby2Kcxlr"
      },
      "execution_count": null,
      "outputs": []
    },
    {
      "cell_type": "code",
      "source": [
        "call_function(\"a2q\", 1)"
      ],
      "metadata": {
        "colab": {
          "base_uri": "https://localhost:8080/",
          "height": 467
        },
        "id": "ik5e4xWogK1_",
        "outputId": "ca217262-9dc2-4e79-ce63-7a937fe5c4a5"
      },
      "execution_count": null,
      "outputs": [
        {
          "output_type": "display_data",
          "data": {
            "text/html": [
              "<html>\n",
              "<head><meta charset=\"utf-8\" /></head>\n",
              "<body>\n",
              "    <div>\n",
              "            <script src=\"https://cdnjs.cloudflare.com/ajax/libs/mathjax/2.7.5/MathJax.js?config=TeX-AMS-MML_SVG\"></script><script type=\"text/javascript\">if (window.MathJax) {MathJax.Hub.Config({SVG: {font: \"STIX-Web\"}});}</script>\n",
              "                <script type=\"text/javascript\">window.PlotlyConfig = {MathJaxConfig: 'local'};</script>\n",
              "        <script src=\"https://cdn.plot.ly/plotly-latest.min.js\"></script>    \n",
              "            <div id=\"39c9151d-da2a-4890-b7fe-42ee2c67b412\" class=\"plotly-graph-div\" style=\"height:450px; width:400px;\"></div>\n",
              "            <script type=\"text/javascript\">\n",
              "                \n",
              "                    window.PLOTLYENV=window.PLOTLYENV || {};\n",
              "                    \n",
              "                if (document.getElementById(\"39c9151d-da2a-4890-b7fe-42ee2c67b412\")) {\n",
              "                    Plotly.newPlot(\n",
              "                        '39c9151d-da2a-4890-b7fe-42ee2c67b412',\n",
              "                        [{\"cells\": {\"align\": [\"left\", \"center\"], \"fill\": {\"color\": [[\"white\", \"lightgrey\", \"white\", \"lightgrey\", \"white\", \"lightgrey\", \"white\", \"lightgrey\", \"white\", \"lightgrey\", \"white\", \"lightgrey\"]]}, \"font\": {\"color\": \"darkslategray\", \"size\": 11}, \"line\": {\"color\": \"darkslategray\"}, \"values\": [[\"Directed\", \"Number of users\", \"Number of answers/comments\", \"Average number of links per user\", \"Density degree of the graph\", \"Type of graph\"], [\"True\", \"18907\", \"189313\", \"10.0\", \"0.0\", \"SPARSE\"]]}, \"header\": {\"align\": [\"left\", \"center\"], \"fill\": {\"color\": \"grey\"}, \"font\": {\"color\": \"black\", \"size\": 11}, \"line\": {\"color\": \"darkslategray\"}, \"values\": [\"Request\", \"Response\"]}, \"type\": \"table\"}],\n",
              "                        {\"height\": 450, \"template\": {\"data\": {\"bar\": [{\"error_x\": {\"color\": \"#2a3f5f\"}, \"error_y\": {\"color\": \"#2a3f5f\"}, \"marker\": {\"line\": {\"color\": \"#E5ECF6\", \"width\": 0.5}}, \"type\": \"bar\"}], \"barpolar\": [{\"marker\": {\"line\": {\"color\": \"#E5ECF6\", \"width\": 0.5}}, \"type\": \"barpolar\"}], \"carpet\": [{\"aaxis\": {\"endlinecolor\": \"#2a3f5f\", \"gridcolor\": \"white\", \"linecolor\": \"white\", \"minorgridcolor\": \"white\", \"startlinecolor\": \"#2a3f5f\"}, \"baxis\": {\"endlinecolor\": \"#2a3f5f\", \"gridcolor\": \"white\", \"linecolor\": \"white\", \"minorgridcolor\": \"white\", \"startlinecolor\": \"#2a3f5f\"}, \"type\": \"carpet\"}], \"choropleth\": [{\"colorbar\": {\"outlinewidth\": 0, \"ticks\": \"\"}, \"type\": \"choropleth\"}], \"contour\": [{\"colorbar\": {\"outlinewidth\": 0, \"ticks\": \"\"}, \"colorscale\": [[0.0, \"#0d0887\"], [0.1111111111111111, \"#46039f\"], [0.2222222222222222, \"#7201a8\"], [0.3333333333333333, \"#9c179e\"], [0.4444444444444444, \"#bd3786\"], [0.5555555555555556, \"#d8576b\"], [0.6666666666666666, \"#ed7953\"], [0.7777777777777778, \"#fb9f3a\"], [0.8888888888888888, \"#fdca26\"], [1.0, \"#f0f921\"]], \"type\": \"contour\"}], \"contourcarpet\": [{\"colorbar\": {\"outlinewidth\": 0, \"ticks\": \"\"}, \"type\": \"contourcarpet\"}], \"heatmap\": [{\"colorbar\": {\"outlinewidth\": 0, \"ticks\": \"\"}, \"colorscale\": [[0.0, \"#0d0887\"], [0.1111111111111111, \"#46039f\"], [0.2222222222222222, \"#7201a8\"], [0.3333333333333333, \"#9c179e\"], [0.4444444444444444, \"#bd3786\"], [0.5555555555555556, \"#d8576b\"], [0.6666666666666666, \"#ed7953\"], [0.7777777777777778, \"#fb9f3a\"], [0.8888888888888888, \"#fdca26\"], [1.0, \"#f0f921\"]], \"type\": \"heatmap\"}], \"heatmapgl\": [{\"colorbar\": {\"outlinewidth\": 0, \"ticks\": \"\"}, \"colorscale\": [[0.0, \"#0d0887\"], [0.1111111111111111, \"#46039f\"], [0.2222222222222222, \"#7201a8\"], [0.3333333333333333, \"#9c179e\"], [0.4444444444444444, \"#bd3786\"], [0.5555555555555556, \"#d8576b\"], [0.6666666666666666, \"#ed7953\"], [0.7777777777777778, \"#fb9f3a\"], [0.8888888888888888, \"#fdca26\"], [1.0, \"#f0f921\"]], \"type\": \"heatmapgl\"}], \"histogram\": [{\"marker\": {\"colorbar\": {\"outlinewidth\": 0, \"ticks\": \"\"}}, \"type\": \"histogram\"}], \"histogram2d\": [{\"colorbar\": {\"outlinewidth\": 0, \"ticks\": \"\"}, \"colorscale\": [[0.0, \"#0d0887\"], [0.1111111111111111, \"#46039f\"], [0.2222222222222222, \"#7201a8\"], [0.3333333333333333, \"#9c179e\"], [0.4444444444444444, \"#bd3786\"], [0.5555555555555556, \"#d8576b\"], [0.6666666666666666, \"#ed7953\"], [0.7777777777777778, \"#fb9f3a\"], [0.8888888888888888, \"#fdca26\"], [1.0, \"#f0f921\"]], \"type\": \"histogram2d\"}], \"histogram2dcontour\": [{\"colorbar\": {\"outlinewidth\": 0, \"ticks\": \"\"}, \"colorscale\": [[0.0, \"#0d0887\"], [0.1111111111111111, \"#46039f\"], [0.2222222222222222, \"#7201a8\"], [0.3333333333333333, \"#9c179e\"], [0.4444444444444444, \"#bd3786\"], [0.5555555555555556, \"#d8576b\"], [0.6666666666666666, \"#ed7953\"], [0.7777777777777778, \"#fb9f3a\"], [0.8888888888888888, \"#fdca26\"], [1.0, \"#f0f921\"]], \"type\": \"histogram2dcontour\"}], \"mesh3d\": [{\"colorbar\": {\"outlinewidth\": 0, \"ticks\": \"\"}, \"type\": \"mesh3d\"}], \"parcoords\": [{\"line\": {\"colorbar\": {\"outlinewidth\": 0, \"ticks\": \"\"}}, \"type\": \"parcoords\"}], \"pie\": [{\"automargin\": true, \"type\": \"pie\"}], \"scatter\": [{\"marker\": {\"colorbar\": {\"outlinewidth\": 0, \"ticks\": \"\"}}, \"type\": \"scatter\"}], \"scatter3d\": [{\"line\": {\"colorbar\": {\"outlinewidth\": 0, \"ticks\": \"\"}}, \"marker\": {\"colorbar\": {\"outlinewidth\": 0, \"ticks\": \"\"}}, \"type\": \"scatter3d\"}], \"scattercarpet\": [{\"marker\": {\"colorbar\": {\"outlinewidth\": 0, \"ticks\": \"\"}}, \"type\": \"scattercarpet\"}], \"scattergeo\": [{\"marker\": {\"colorbar\": {\"outlinewidth\": 0, \"ticks\": \"\"}}, \"type\": \"scattergeo\"}], \"scattergl\": [{\"marker\": {\"colorbar\": {\"outlinewidth\": 0, \"ticks\": \"\"}}, \"type\": \"scattergl\"}], \"scattermapbox\": [{\"marker\": {\"colorbar\": {\"outlinewidth\": 0, \"ticks\": \"\"}}, \"type\": \"scattermapbox\"}], \"scatterpolar\": [{\"marker\": {\"colorbar\": {\"outlinewidth\": 0, \"ticks\": \"\"}}, \"type\": \"scatterpolar\"}], \"scatterpolargl\": [{\"marker\": {\"colorbar\": {\"outlinewidth\": 0, \"ticks\": \"\"}}, \"type\": \"scatterpolargl\"}], \"scatterternary\": [{\"marker\": {\"colorbar\": {\"outlinewidth\": 0, \"ticks\": \"\"}}, \"type\": \"scatterternary\"}], \"surface\": [{\"colorbar\": {\"outlinewidth\": 0, \"ticks\": \"\"}, \"colorscale\": [[0.0, \"#0d0887\"], [0.1111111111111111, \"#46039f\"], [0.2222222222222222, \"#7201a8\"], [0.3333333333333333, \"#9c179e\"], [0.4444444444444444, \"#bd3786\"], [0.5555555555555556, \"#d8576b\"], [0.6666666666666666, \"#ed7953\"], [0.7777777777777778, \"#fb9f3a\"], [0.8888888888888888, \"#fdca26\"], [1.0, \"#f0f921\"]], \"type\": \"surface\"}], \"table\": [{\"cells\": {\"fill\": {\"color\": \"#EBF0F8\"}, \"line\": {\"color\": \"white\"}}, \"header\": {\"fill\": {\"color\": \"#C8D4E3\"}, \"line\": {\"color\": \"white\"}}, \"type\": \"table\"}]}, \"layout\": {\"annotationdefaults\": {\"arrowcolor\": \"#2a3f5f\", \"arrowhead\": 0, \"arrowwidth\": 1}, \"coloraxis\": {\"colorbar\": {\"outlinewidth\": 0, \"ticks\": \"\"}}, \"colorscale\": {\"diverging\": [[0, \"#8e0152\"], [0.1, \"#c51b7d\"], [0.2, \"#de77ae\"], [0.3, \"#f1b6da\"], [0.4, \"#fde0ef\"], [0.5, \"#f7f7f7\"], [0.6, \"#e6f5d0\"], [0.7, \"#b8e186\"], [0.8, \"#7fbc41\"], [0.9, \"#4d9221\"], [1, \"#276419\"]], \"sequential\": [[0.0, \"#0d0887\"], [0.1111111111111111, \"#46039f\"], [0.2222222222222222, \"#7201a8\"], [0.3333333333333333, \"#9c179e\"], [0.4444444444444444, \"#bd3786\"], [0.5555555555555556, \"#d8576b\"], [0.6666666666666666, \"#ed7953\"], [0.7777777777777778, \"#fb9f3a\"], [0.8888888888888888, \"#fdca26\"], [1.0, \"#f0f921\"]], \"sequentialminus\": [[0.0, \"#0d0887\"], [0.1111111111111111, \"#46039f\"], [0.2222222222222222, \"#7201a8\"], [0.3333333333333333, \"#9c179e\"], [0.4444444444444444, \"#bd3786\"], [0.5555555555555556, \"#d8576b\"], [0.6666666666666666, \"#ed7953\"], [0.7777777777777778, \"#fb9f3a\"], [0.8888888888888888, \"#fdca26\"], [1.0, \"#f0f921\"]]}, \"colorway\": [\"#636efa\", \"#EF553B\", \"#00cc96\", \"#ab63fa\", \"#FFA15A\", \"#19d3f3\", \"#FF6692\", \"#B6E880\", \"#FF97FF\", \"#FECB52\"], \"font\": {\"color\": \"#2a3f5f\"}, \"geo\": {\"bgcolor\": \"white\", \"lakecolor\": \"white\", \"landcolor\": \"#E5ECF6\", \"showlakes\": true, \"showland\": true, \"subunitcolor\": \"white\"}, \"hoverlabel\": {\"align\": \"left\"}, \"hovermode\": \"closest\", \"mapbox\": {\"style\": \"light\"}, \"paper_bgcolor\": \"white\", \"plot_bgcolor\": \"#E5ECF6\", \"polar\": {\"angularaxis\": {\"gridcolor\": \"white\", \"linecolor\": \"white\", \"ticks\": \"\"}, \"bgcolor\": \"#E5ECF6\", \"radialaxis\": {\"gridcolor\": \"white\", \"linecolor\": \"white\", \"ticks\": \"\"}}, \"scene\": {\"xaxis\": {\"backgroundcolor\": \"#E5ECF6\", \"gridcolor\": \"white\", \"gridwidth\": 2, \"linecolor\": \"white\", \"showbackground\": true, \"ticks\": \"\", \"zerolinecolor\": \"white\"}, \"yaxis\": {\"backgroundcolor\": \"#E5ECF6\", \"gridcolor\": \"white\", \"gridwidth\": 2, \"linecolor\": \"white\", \"showbackground\": true, \"ticks\": \"\", \"zerolinecolor\": \"white\"}, \"zaxis\": {\"backgroundcolor\": \"#E5ECF6\", \"gridcolor\": \"white\", \"gridwidth\": 2, \"linecolor\": \"white\", \"showbackground\": true, \"ticks\": \"\", \"zerolinecolor\": \"white\"}}, \"shapedefaults\": {\"line\": {\"color\": \"#2a3f5f\"}}, \"ternary\": {\"aaxis\": {\"gridcolor\": \"white\", \"linecolor\": \"white\", \"ticks\": \"\"}, \"baxis\": {\"gridcolor\": \"white\", \"linecolor\": \"white\", \"ticks\": \"\"}, \"bgcolor\": \"#E5ECF6\", \"caxis\": {\"gridcolor\": \"white\", \"linecolor\": \"white\", \"ticks\": \"\"}}, \"title\": {\"x\": 0.05}, \"xaxis\": {\"automargin\": true, \"gridcolor\": \"white\", \"linecolor\": \"white\", \"ticks\": \"\", \"title\": {\"standoff\": 15}, \"zerolinecolor\": \"white\", \"zerolinewidth\": 2}, \"yaxis\": {\"automargin\": true, \"gridcolor\": \"white\", \"linecolor\": \"white\", \"ticks\": \"\", \"title\": {\"standoff\": 15}, \"zerolinecolor\": \"white\", \"zerolinewidth\": 2}}}, \"width\": 400},\n",
              "                        {\"responsive\": true}\n",
              "                    ).then(function(){\n",
              "                            \n",
              "var gd = document.getElementById('39c9151d-da2a-4890-b7fe-42ee2c67b412');\n",
              "var x = new MutationObserver(function (mutations, observer) {{\n",
              "        var display = window.getComputedStyle(gd).display;\n",
              "        if (!display || display === 'none') {{\n",
              "            console.log([gd, 'removed!']);\n",
              "            Plotly.purge(gd);\n",
              "            observer.disconnect();\n",
              "        }}\n",
              "}});\n",
              "\n",
              "// Listen for the removal of the full notebook cells\n",
              "var notebookContainer = gd.closest('#notebook-container');\n",
              "if (notebookContainer) {{\n",
              "    x.observe(notebookContainer, {childList: true});\n",
              "}}\n",
              "\n",
              "// Listen for the clearing of the current output cell\n",
              "var outputEl = gd.closest('.output');\n",
              "if (outputEl) {{\n",
              "    x.observe(outputEl, {childList: true});\n",
              "}}\n",
              "\n",
              "                        })\n",
              "                };\n",
              "                \n",
              "            </script>\n",
              "        </div>\n",
              "</body>\n",
              "</html>"
            ]
          },
          "metadata": {}
        }
      ]
    },
    {
      "cell_type": "code",
      "source": [
        ""
      ],
      "metadata": {
        "id": "IUkHWpMBhd5A"
      },
      "execution_count": null,
      "outputs": []
    },
    {
      "cell_type": "markdown",
      "source": [
        "# EX 2.2"
      ],
      "metadata": {
        "id": "rBrbk9eRd7Yy"
      }
    },
    {
      "cell_type": "code",
      "source": [
        "def find_min_cost(dict_relation):\n",
        "    for user in graph:\n",
        "        for year in graph[user].get_out_relation:\n",
        "            for relation in graph[user].get_out_relation[year]:\n",
        "                for relation in graph[user].get_out_relation[year][relation]:"
      ],
      "metadata": {
        "id": "-mRsFJ2IeCtj"
      },
      "execution_count": null,
      "outputs": []
    },
    {
      "cell_type": "code",
      "source": [
        "def myDijkstra(graph, source, target):\n",
        "    visited = set()\n",
        "    unvisited = set(graph.keys())\n",
        "    dist = dict()\n",
        "    prev = dict()\n",
        "\n",
        "    for u in unvisited:\n",
        "        dist[u] = float('inf')\n",
        "        prev[u] = -1\n",
        "\n",
        "    dist[source] = 0\n",
        "    current_node = source\n",
        "    #minimum = dist[min(unvisited)]\n",
        "    while len(unvisited) > 0: #TO ADD: loop not connected\n",
        "        # setto i costi a seconda di quelli che ho\n",
        "        for node in unvisited:\n",
        "            if minimum > dist[node]:\n",
        "                minimum = dist[node] \n",
        "                current_node = node\n",
        "\n",
        "        unvisited.remove(current_node)\n",
        "        neighbor = getNeighbors(current_node,graph)\n",
        "\n",
        "        for u in unvisited.intersection(neighbor):\n",
        "            new_dist = dist[current_node] + overallWeight(current_node,u)\n",
        "            if new_dist < dist[u]:\n",
        "                dist[u] = new_dist\n",
        "                prev[u] = current_node \n",
        "\n",
        "    return getShortestPath(source, target, prev, dist)"
      ],
      "metadata": {
        "id": "dqD9PswXd_gL"
      },
      "execution_count": null,
      "outputs": []
    },
    {
      "cell_type": "markdown",
      "source": [
        "# EX4"
      ],
      "metadata": {
        "id": "dbUD7Am7YuJ5"
      }
    },
    {
      "cell_type": "code",
      "source": [
        "def assign_dormitory_to_child(child, dormitory_1, dormitory_2, not_with, children):\n",
        "    assign = False\n",
        "    if child not in dormitory_1 and child not in dormitory_2: #if no dormitory has been assigned to child \n",
        "        if not_with in dormitory_1:\n",
        "            dormitory_2.add(child)\n",
        "        else:\n",
        "            dormitory_1.add(child)\n",
        "        assign = True\n",
        "        children.remove(child)\n",
        "    return assign, dormitory_1, dormitory_2, children\n",
        "    "
      ],
      "metadata": {
        "id": "uyaKW4bgBNAD"
      },
      "execution_count": null,
      "outputs": []
    },
    {
      "cell_type": "code",
      "metadata": {
        "id": "IUtej4WRukIp"
      },
      "source": [
        "def create_pair(n, list_pair):\n",
        "    children = {i for i in range(n)} #set of children to be assigned a dormitory \n",
        "    dormitory_1 = set()\n",
        "    dormitory_2 = set()\n",
        "    for child_1, child_2 in list_pair:\n",
        "        assign_1, dormitory_1, dormitory_2, children = assign_dormitory_to_child(child_1, dormitory_1, dormitory_2, child_2, children)\n",
        "        assign_2, dormitory_1, dormitory_2, children = assign_dormitory_to_child(child_2, dormitory_1, dormitory_2, child_1, children)\n",
        "        if not assign_1 and not assign_2:\n",
        "            return \"It's not possibile to divide the kids in two dormitories.\"\n",
        "    for i, child in enumerate(children):\n",
        "        if i % 2 == 0:\n",
        "            dormitory_1.add(child)\n",
        "        else:\n",
        "            dormitory_2.add(child)     \n",
        "    return dormitory_1, dormitory_2"
      ],
      "execution_count": null,
      "outputs": []
    },
    {
      "cell_type": "code",
      "source": [
        "l = [(1,2),(1,3),(2,3)]"
      ],
      "metadata": {
        "id": "T_etT4f05klE"
      },
      "execution_count": null,
      "outputs": []
    },
    {
      "cell_type": "code",
      "source": [
        "create_pair(4,l)"
      ],
      "metadata": {
        "colab": {
          "base_uri": "https://localhost:8080/",
          "height": 35
        },
        "id": "ETRpPjYJ8Yqk",
        "outputId": "5f016dfb-3d3a-40ab-ee35-921f08434ba9"
      },
      "execution_count": null,
      "outputs": [
        {
          "output_type": "execute_result",
          "data": {
            "application/vnd.google.colaboratory.intrinsic+json": {
              "type": "string"
            },
            "text/plain": [
              "\"It's not possibile to divide the kids in two dormitories.\""
            ]
          },
          "metadata": {},
          "execution_count": 66
        }
      ]
    },
    {
      "cell_type": "code",
      "source": [
        "l = [(4, 8), (0, 2)]\n",
        "create_pair(10,l)"
      ],
      "metadata": {
        "colab": {
          "base_uri": "https://localhost:8080/"
        },
        "id": "OnVgHEZZ-dG8",
        "outputId": "7b24d9e9-f268-4bb5-d304-b9a74b523ae2"
      },
      "execution_count": null,
      "outputs": [
        {
          "output_type": "execute_result",
          "data": {
            "text/plain": [
              "({0, 1, 4, 5, 7}, {2, 3, 6, 8, 9})"
            ]
          },
          "metadata": {},
          "execution_count": 64
        }
      ]
    },
    {
      "cell_type": "code",
      "source": [
        "l = [(0,1), (1,2)]\n",
        "create_pair(3,l)"
      ],
      "metadata": {
        "colab": {
          "base_uri": "https://localhost:8080/"
        },
        "id": "yFaB6X7d-vPj",
        "outputId": "d89f6159-d9c0-4e27-d3af-ca6ea38505e1"
      },
      "execution_count": null,
      "outputs": [
        {
          "output_type": "execute_result",
          "data": {
            "text/plain": [
              "({0, 2}, {1})"
            ]
          },
          "metadata": {},
          "execution_count": 67
        }
      ]
    },
    {
      "cell_type": "code",
      "source": [
        "\n",
        "my_dict_of_dicts = {0: {1: 10, 2: 1}, 1: {2: 1}, 2: {3: 1}, 3: {1: 1}}\n",
        "\n",
        "for k, d in my_dict_of_dicts.items():\n",
        "    print(k,d)"
      ],
      "metadata": {
        "id": "ccAaKZ2kQbyg",
        "outputId": "7b940577-cc64-4919-8150-291eb7142061",
        "colab": {
          "base_uri": "https://localhost:8080/"
        }
      },
      "execution_count": null,
      "outputs": [
        {
          "output_type": "stream",
          "name": "stdout",
          "text": [
            "0 {1: 10, 2: 1}\n",
            "1 {2: 1}\n",
            "2 {3: 1}\n",
            "3 {1: 1}\n"
          ]
        }
      ]
    }
  ]
}