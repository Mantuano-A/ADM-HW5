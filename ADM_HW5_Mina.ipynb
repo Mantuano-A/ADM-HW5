{
 "cells": [
  {
   "cell_type": "code",
   "execution_count": null,
   "metadata": {
    "colab": {
     "base_uri": "https://localhost:8080/"
    },
    "id": "Hx932cVxi7x5",
    "outputId": "05d138f5-8624-4577-be04-b81921b93408"
   },
   "outputs": [
    {
     "name": "stdout",
     "output_type": "stream",
     "text": [
      "Mounted at /content/drive/\n"
     ]
    }
   ],
   "source": [
    "from google.colab import drive\n",
    "drive.mount('/content/drive/')"
   ]
  },
  {
   "cell_type": "code",
   "execution_count": 7,
   "metadata": {
    "id": "eSlaXRsOalMA"
   },
   "outputs": [],
   "source": [
    "import utils_function\n",
    "import utils_class"
   ]
  },
  {
   "cell_type": "code",
   "execution_count": null,
   "metadata": {
    "id": "4t-aon9MVbVI"
   },
   "outputs": [],
   "source": [
    "filename = \"/content/drive/MyDrive/ADM/HW5/\"\n",
    "#filename = \"/content/drive/MyDrive/HW5/\""
   ]
  },
  {
   "cell_type": "markdown",
   "metadata": {
    "id": "D7QK_-Jtfnw6"
   },
   "source": [
    "# Exercise 1"
   ]
  },
  {
   "cell_type": "markdown",
   "metadata": {
    "id": "mkDNkBXmmz1H"
   },
   "source": [
    "### READ DATA"
   ]
  },
  {
   "cell_type": "code",
   "execution_count": null,
   "metadata": {
    "id": "R1PVo3_ldf5s"
   },
   "outputs": [],
   "source": [
    "a2q = pd.read_csv(filename + 'sx-stackoverflow-a2q.txt.gz', compression='gzip', header=None, sep=' ', quotechar='\"', error_bad_lines=False)\n",
    "c2a = pd.read_csv(filename + 'sx-stackoverflow-c2a.txt.gz', compression='gzip', header=None, sep=' ', quotechar='\"', error_bad_lines=False)\n",
    "c2q = pd.read_csv(filename + 'sx-stackoverflow-c2q.txt.gz', compression='gzip', header=None, sep=' ', quotechar='\"', error_bad_lines=False)"
   ]
  },
  {
   "cell_type": "markdown",
   "metadata": {
    "id": "KtVgYivn5K2t"
   },
   "source": [
    "###Trasform timestamp in date"
   ]
  },
  {
   "cell_type": "code",
   "execution_count": null,
   "metadata": {
    "id": "GjeZyA0seSKC"
   },
   "outputs": [],
   "source": [
    "a2q[2] = pd.to_datetime(a2q[2], unit='s').dt.strftime(\"%Y%m%d\").astype(int)\n",
    "c2a[2] = pd.to_datetime(c2a[2], unit='s').dt.strftime(\"%Y%m%d\").astype(int)\n",
    "c2q[2] = pd.to_datetime(c2q[2], unit='s').dt.strftime(\"%Y%m%d\").astype(int)"
   ]
  },
  {
   "cell_type": "markdown",
   "metadata": {
    "id": "GYUvQL51f-iY"
   },
   "source": [
    "### Drop edge on themselve"
   ]
  },
  {
   "cell_type": "markdown",
   "metadata": {
    "id": "SBmxXmlMe9-8"
   },
   "source": [
    "in order not to have cycles on themselves in the graph, and not to have problems walking along the paths, we preferred to drop the nodes that go on themselves"
   ]
  },
  {
   "cell_type": "code",
   "execution_count": null,
   "metadata": {
    "id": "pYtB5oAyzM9c"
   },
   "outputs": [],
   "source": [
    "c2q.drop(c2q[c2q[0] == c2q[1]].index, inplace = True)\n",
    "c2a.drop(c2a[c2a[0] == c2a[1]].index, inplace = True)\n",
    "a2q.drop(a2q[a2q[0] == a2q[1]].index, inplace = True)"
   ]
  },
  {
   "cell_type": "markdown",
   "metadata": {
    "id": "0YMGlf0qfe0z"
   },
   "source": [
    "### Subset of dataset"
   ]
  },
  {
   "cell_type": "markdown",
   "metadata": {
    "id": "bZlHxVY_e5Qt"
   },
   "source": [
    "to get an immediate answer we preferred to take a small subset of data over a period of time, in this case all dataset before 2009"
   ]
  },
  {
   "cell_type": "code",
   "execution_count": null,
   "metadata": {
    "id": "GW8Nb-QSfA5b"
   },
   "outputs": [],
   "source": [
    "subset_a2q = a2q[a2q[2] < 20090101].copy()\n",
    "subset_c2a = c2a[c2a[2] < 20090101].copy()\n",
    "subset_c2q = c2q[c2q[2] < 20090101].copy()"
   ]
  },
  {
   "cell_type": "code",
   "execution_count": null,
   "metadata": {
    "id": "c13mRfh2Rr-1"
   },
   "outputs": [],
   "source": [
    "users = dict()\n",
    "users = create_graph(subset_a2q, \"a2q\", 1, users)\n",
    "users = create_graph(subset_c2a, \"c2a\", 2, users)\n",
    "users = create_graph(subset_c2q, \"c2q\", 3, users)"
   ]
  },
  {
   "cell_type": "code",
   "execution_count": null,
   "metadata": {
    "id": "7JSA_L6jU9Rq"
   },
   "outputs": [],
   "source": [
    "import pickle\n",
    "with open(filename + 'graph.pickle', 'wb') as fp:\n",
    "    pickle.dump(users, fp, pickle.HIGHEST_PROTOCOL)"
   ]
  },
  {
   "cell_type": "markdown",
   "metadata": {
    "id": "_iRljOXMYpnt"
   },
   "source": [
    "# LOAD DATA FROM FILE"
   ]
  },
  {
   "cell_type": "code",
   "execution_count": null,
   "metadata": {
    "id": "XhcAkGSqO94q"
   },
   "outputs": [],
   "source": [
    "import pickle\n",
    "filename = '/content/drive/MyDrive/ADM/HW5/graph.pickle'\n",
    "with open(filename, 'rb') as handle:\n",
    "    graph = pickle.load(handle)"
   ]
  },
  {
   "cell_type": "markdown",
   "metadata": {
    "id": "FqVUEH1KdHNg"
   },
   "source": [
    "# EX 2"
   ]
  },
  {
   "cell_type": "code",
   "execution_count": null,
   "metadata": {
    "id": "vSt_tWl6dIzL"
   },
   "outputs": [],
   "source": [
    "def call_function(name_graph, i):\n",
    "    if i == 1:\n",
    "        return get_features(name_graph)"
   ]
  },
  {
   "cell_type": "markdown",
   "metadata": {
    "id": "iAfxzxircsae"
   },
   "source": [
    "## EX 2.1"
   ]
  },
  {
   "cell_type": "code",
   "execution_count": null,
   "metadata": {
    "colab": {
     "base_uri": "https://localhost:8080/",
     "height": 467
    },
    "id": "ik5e4xWogK1_",
    "outputId": "484ea641-2a02-4636-c994-2cbce67d7e0a"
   },
   "outputs": [
    {
     "data": {
      "text/html": [
       "<html>\n",
       "<head><meta charset=\"utf-8\" /></head>\n",
       "<body>\n",
       "    <div>\n",
       "            <script src=\"https://cdnjs.cloudflare.com/ajax/libs/mathjax/2.7.5/MathJax.js?config=TeX-AMS-MML_SVG\"></script><script type=\"text/javascript\">if (window.MathJax) {MathJax.Hub.Config({SVG: {font: \"STIX-Web\"}});}</script>\n",
       "                <script type=\"text/javascript\">window.PlotlyConfig = {MathJaxConfig: 'local'};</script>\n",
       "        <script src=\"https://cdn.plot.ly/plotly-latest.min.js\"></script>    \n",
       "            <div id=\"dc8189d1-6f52-46ec-83d0-2661c27cf32e\" class=\"plotly-graph-div\" style=\"height:450px; width:400px;\"></div>\n",
       "            <script type=\"text/javascript\">\n",
       "                \n",
       "                    window.PLOTLYENV=window.PLOTLYENV || {};\n",
       "                    \n",
       "                if (document.getElementById(\"dc8189d1-6f52-46ec-83d0-2661c27cf32e\")) {\n",
       "                    Plotly.newPlot(\n",
       "                        'dc8189d1-6f52-46ec-83d0-2661c27cf32e',\n",
       "                        [{\"cells\": {\"align\": [\"left\", \"center\"], \"fill\": {\"color\": [[\"white\", \"lightgrey\", \"white\", \"lightgrey\", \"white\", \"lightgrey\", \"white\", \"lightgrey\", \"white\", \"lightgrey\", \"white\", \"lightgrey\"]]}, \"font\": {\"color\": \"darkslategray\", \"size\": 11}, \"line\": {\"color\": \"darkslategray\"}, \"values\": [[\"Directed\", \"Number of users\", \"Number of answers/comments\", \"Average number of links per user\", \"Density degree of the graph\", \"Type of graph\"], [\"True\", \"18907\", \"189313\", \"10.0\", \"0.0005\", \"SPARSE\"]]}, \"header\": {\"align\": [\"left\", \"center\"], \"fill\": {\"color\": \"grey\"}, \"font\": {\"color\": \"black\", \"size\": 11}, \"line\": {\"color\": \"darkslategray\"}, \"values\": [\"Request\", \"Response\"]}, \"type\": \"table\"}],\n",
       "                        {\"height\": 450, \"template\": {\"data\": {\"bar\": [{\"error_x\": {\"color\": \"#2a3f5f\"}, \"error_y\": {\"color\": \"#2a3f5f\"}, \"marker\": {\"line\": {\"color\": \"#E5ECF6\", \"width\": 0.5}}, \"type\": \"bar\"}], \"barpolar\": [{\"marker\": {\"line\": {\"color\": \"#E5ECF6\", \"width\": 0.5}}, \"type\": \"barpolar\"}], \"carpet\": [{\"aaxis\": {\"endlinecolor\": \"#2a3f5f\", \"gridcolor\": \"white\", \"linecolor\": \"white\", \"minorgridcolor\": \"white\", \"startlinecolor\": \"#2a3f5f\"}, \"baxis\": {\"endlinecolor\": \"#2a3f5f\", \"gridcolor\": \"white\", \"linecolor\": \"white\", \"minorgridcolor\": \"white\", \"startlinecolor\": \"#2a3f5f\"}, \"type\": \"carpet\"}], \"choropleth\": [{\"colorbar\": {\"outlinewidth\": 0, \"ticks\": \"\"}, \"type\": \"choropleth\"}], \"contour\": [{\"colorbar\": {\"outlinewidth\": 0, \"ticks\": \"\"}, \"colorscale\": [[0.0, \"#0d0887\"], [0.1111111111111111, \"#46039f\"], [0.2222222222222222, \"#7201a8\"], [0.3333333333333333, \"#9c179e\"], [0.4444444444444444, \"#bd3786\"], [0.5555555555555556, \"#d8576b\"], [0.6666666666666666, \"#ed7953\"], [0.7777777777777778, \"#fb9f3a\"], [0.8888888888888888, \"#fdca26\"], [1.0, \"#f0f921\"]], \"type\": \"contour\"}], \"contourcarpet\": [{\"colorbar\": {\"outlinewidth\": 0, \"ticks\": \"\"}, \"type\": \"contourcarpet\"}], \"heatmap\": [{\"colorbar\": {\"outlinewidth\": 0, \"ticks\": \"\"}, \"colorscale\": [[0.0, \"#0d0887\"], [0.1111111111111111, \"#46039f\"], [0.2222222222222222, \"#7201a8\"], [0.3333333333333333, \"#9c179e\"], [0.4444444444444444, \"#bd3786\"], [0.5555555555555556, \"#d8576b\"], [0.6666666666666666, \"#ed7953\"], [0.7777777777777778, \"#fb9f3a\"], [0.8888888888888888, \"#fdca26\"], [1.0, \"#f0f921\"]], \"type\": \"heatmap\"}], \"heatmapgl\": [{\"colorbar\": {\"outlinewidth\": 0, \"ticks\": \"\"}, \"colorscale\": [[0.0, \"#0d0887\"], [0.1111111111111111, \"#46039f\"], [0.2222222222222222, \"#7201a8\"], [0.3333333333333333, \"#9c179e\"], [0.4444444444444444, \"#bd3786\"], [0.5555555555555556, \"#d8576b\"], [0.6666666666666666, \"#ed7953\"], [0.7777777777777778, \"#fb9f3a\"], [0.8888888888888888, \"#fdca26\"], [1.0, \"#f0f921\"]], \"type\": \"heatmapgl\"}], \"histogram\": [{\"marker\": {\"colorbar\": {\"outlinewidth\": 0, \"ticks\": \"\"}}, \"type\": \"histogram\"}], \"histogram2d\": [{\"colorbar\": {\"outlinewidth\": 0, \"ticks\": \"\"}, \"colorscale\": [[0.0, \"#0d0887\"], [0.1111111111111111, \"#46039f\"], [0.2222222222222222, \"#7201a8\"], [0.3333333333333333, \"#9c179e\"], [0.4444444444444444, \"#bd3786\"], [0.5555555555555556, \"#d8576b\"], [0.6666666666666666, \"#ed7953\"], [0.7777777777777778, \"#fb9f3a\"], [0.8888888888888888, \"#fdca26\"], [1.0, \"#f0f921\"]], \"type\": \"histogram2d\"}], \"histogram2dcontour\": [{\"colorbar\": {\"outlinewidth\": 0, \"ticks\": \"\"}, \"colorscale\": [[0.0, \"#0d0887\"], [0.1111111111111111, \"#46039f\"], [0.2222222222222222, \"#7201a8\"], [0.3333333333333333, \"#9c179e\"], [0.4444444444444444, \"#bd3786\"], [0.5555555555555556, \"#d8576b\"], [0.6666666666666666, \"#ed7953\"], [0.7777777777777778, \"#fb9f3a\"], [0.8888888888888888, \"#fdca26\"], [1.0, \"#f0f921\"]], \"type\": \"histogram2dcontour\"}], \"mesh3d\": [{\"colorbar\": {\"outlinewidth\": 0, \"ticks\": \"\"}, \"type\": \"mesh3d\"}], \"parcoords\": [{\"line\": {\"colorbar\": {\"outlinewidth\": 0, \"ticks\": \"\"}}, \"type\": \"parcoords\"}], \"pie\": [{\"automargin\": true, \"type\": \"pie\"}], \"scatter\": [{\"marker\": {\"colorbar\": {\"outlinewidth\": 0, \"ticks\": \"\"}}, \"type\": \"scatter\"}], \"scatter3d\": [{\"line\": {\"colorbar\": {\"outlinewidth\": 0, \"ticks\": \"\"}}, \"marker\": {\"colorbar\": {\"outlinewidth\": 0, \"ticks\": \"\"}}, \"type\": \"scatter3d\"}], \"scattercarpet\": [{\"marker\": {\"colorbar\": {\"outlinewidth\": 0, \"ticks\": \"\"}}, \"type\": \"scattercarpet\"}], \"scattergeo\": [{\"marker\": {\"colorbar\": {\"outlinewidth\": 0, \"ticks\": \"\"}}, \"type\": \"scattergeo\"}], \"scattergl\": [{\"marker\": {\"colorbar\": {\"outlinewidth\": 0, \"ticks\": \"\"}}, \"type\": \"scattergl\"}], \"scattermapbox\": [{\"marker\": {\"colorbar\": {\"outlinewidth\": 0, \"ticks\": \"\"}}, \"type\": \"scattermapbox\"}], \"scatterpolar\": [{\"marker\": {\"colorbar\": {\"outlinewidth\": 0, \"ticks\": \"\"}}, \"type\": \"scatterpolar\"}], \"scatterpolargl\": [{\"marker\": {\"colorbar\": {\"outlinewidth\": 0, \"ticks\": \"\"}}, \"type\": \"scatterpolargl\"}], \"scatterternary\": [{\"marker\": {\"colorbar\": {\"outlinewidth\": 0, \"ticks\": \"\"}}, \"type\": \"scatterternary\"}], \"surface\": [{\"colorbar\": {\"outlinewidth\": 0, \"ticks\": \"\"}, \"colorscale\": [[0.0, \"#0d0887\"], [0.1111111111111111, \"#46039f\"], [0.2222222222222222, \"#7201a8\"], [0.3333333333333333, \"#9c179e\"], [0.4444444444444444, \"#bd3786\"], [0.5555555555555556, \"#d8576b\"], [0.6666666666666666, \"#ed7953\"], [0.7777777777777778, \"#fb9f3a\"], [0.8888888888888888, \"#fdca26\"], [1.0, \"#f0f921\"]], \"type\": \"surface\"}], \"table\": [{\"cells\": {\"fill\": {\"color\": \"#EBF0F8\"}, \"line\": {\"color\": \"white\"}}, \"header\": {\"fill\": {\"color\": \"#C8D4E3\"}, \"line\": {\"color\": \"white\"}}, \"type\": \"table\"}]}, \"layout\": {\"annotationdefaults\": {\"arrowcolor\": \"#2a3f5f\", \"arrowhead\": 0, \"arrowwidth\": 1}, \"coloraxis\": {\"colorbar\": {\"outlinewidth\": 0, \"ticks\": \"\"}}, \"colorscale\": {\"diverging\": [[0, \"#8e0152\"], [0.1, \"#c51b7d\"], [0.2, \"#de77ae\"], [0.3, \"#f1b6da\"], [0.4, \"#fde0ef\"], [0.5, \"#f7f7f7\"], [0.6, \"#e6f5d0\"], [0.7, \"#b8e186\"], [0.8, \"#7fbc41\"], [0.9, \"#4d9221\"], [1, \"#276419\"]], \"sequential\": [[0.0, \"#0d0887\"], [0.1111111111111111, \"#46039f\"], [0.2222222222222222, \"#7201a8\"], [0.3333333333333333, \"#9c179e\"], [0.4444444444444444, \"#bd3786\"], [0.5555555555555556, \"#d8576b\"], [0.6666666666666666, \"#ed7953\"], [0.7777777777777778, \"#fb9f3a\"], [0.8888888888888888, \"#fdca26\"], [1.0, \"#f0f921\"]], \"sequentialminus\": [[0.0, \"#0d0887\"], [0.1111111111111111, \"#46039f\"], [0.2222222222222222, \"#7201a8\"], [0.3333333333333333, \"#9c179e\"], [0.4444444444444444, \"#bd3786\"], [0.5555555555555556, \"#d8576b\"], [0.6666666666666666, \"#ed7953\"], [0.7777777777777778, \"#fb9f3a\"], [0.8888888888888888, \"#fdca26\"], [1.0, \"#f0f921\"]]}, \"colorway\": [\"#636efa\", \"#EF553B\", \"#00cc96\", \"#ab63fa\", \"#FFA15A\", \"#19d3f3\", \"#FF6692\", \"#B6E880\", \"#FF97FF\", \"#FECB52\"], \"font\": {\"color\": \"#2a3f5f\"}, \"geo\": {\"bgcolor\": \"white\", \"lakecolor\": \"white\", \"landcolor\": \"#E5ECF6\", \"showlakes\": true, \"showland\": true, \"subunitcolor\": \"white\"}, \"hoverlabel\": {\"align\": \"left\"}, \"hovermode\": \"closest\", \"mapbox\": {\"style\": \"light\"}, \"paper_bgcolor\": \"white\", \"plot_bgcolor\": \"#E5ECF6\", \"polar\": {\"angularaxis\": {\"gridcolor\": \"white\", \"linecolor\": \"white\", \"ticks\": \"\"}, \"bgcolor\": \"#E5ECF6\", \"radialaxis\": {\"gridcolor\": \"white\", \"linecolor\": \"white\", \"ticks\": \"\"}}, \"scene\": {\"xaxis\": {\"backgroundcolor\": \"#E5ECF6\", \"gridcolor\": \"white\", \"gridwidth\": 2, \"linecolor\": \"white\", \"showbackground\": true, \"ticks\": \"\", \"zerolinecolor\": \"white\"}, \"yaxis\": {\"backgroundcolor\": \"#E5ECF6\", \"gridcolor\": \"white\", \"gridwidth\": 2, \"linecolor\": \"white\", \"showbackground\": true, \"ticks\": \"\", \"zerolinecolor\": \"white\"}, \"zaxis\": {\"backgroundcolor\": \"#E5ECF6\", \"gridcolor\": \"white\", \"gridwidth\": 2, \"linecolor\": \"white\", \"showbackground\": true, \"ticks\": \"\", \"zerolinecolor\": \"white\"}}, \"shapedefaults\": {\"line\": {\"color\": \"#2a3f5f\"}}, \"ternary\": {\"aaxis\": {\"gridcolor\": \"white\", \"linecolor\": \"white\", \"ticks\": \"\"}, \"baxis\": {\"gridcolor\": \"white\", \"linecolor\": \"white\", \"ticks\": \"\"}, \"bgcolor\": \"#E5ECF6\", \"caxis\": {\"gridcolor\": \"white\", \"linecolor\": \"white\", \"ticks\": \"\"}}, \"title\": {\"x\": 0.05}, \"xaxis\": {\"automargin\": true, \"gridcolor\": \"white\", \"linecolor\": \"white\", \"ticks\": \"\", \"title\": {\"standoff\": 15}, \"zerolinecolor\": \"white\", \"zerolinewidth\": 2}, \"yaxis\": {\"automargin\": true, \"gridcolor\": \"white\", \"linecolor\": \"white\", \"ticks\": \"\", \"title\": {\"standoff\": 15}, \"zerolinecolor\": \"white\", \"zerolinewidth\": 2}}}, \"width\": 400},\n",
       "                        {\"responsive\": true}\n",
       "                    ).then(function(){\n",
       "                            \n",
       "var gd = document.getElementById('dc8189d1-6f52-46ec-83d0-2661c27cf32e');\n",
       "var x = new MutationObserver(function (mutations, observer) {{\n",
       "        var display = window.getComputedStyle(gd).display;\n",
       "        if (!display || display === 'none') {{\n",
       "            console.log([gd, 'removed!']);\n",
       "            Plotly.purge(gd);\n",
       "            observer.disconnect();\n",
       "        }}\n",
       "}});\n",
       "\n",
       "// Listen for the removal of the full notebook cells\n",
       "var notebookContainer = gd.closest('#notebook-container');\n",
       "if (notebookContainer) {{\n",
       "    x.observe(notebookContainer, {childList: true});\n",
       "}}\n",
       "\n",
       "// Listen for the clearing of the current output cell\n",
       "var outputEl = gd.closest('.output');\n",
       "if (outputEl) {{\n",
       "    x.observe(outputEl, {childList: true});\n",
       "}}\n",
       "\n",
       "                        })\n",
       "                };\n",
       "                \n",
       "            </script>\n",
       "        </div>\n",
       "</body>\n",
       "</html>"
      ]
     },
     "metadata": {},
     "output_type": "display_data"
    }
   ],
   "source": [
    "call_function(\"a2q\", 1)"
   ]
  },
  {
   "cell_type": "code",
   "execution_count": null,
   "metadata": {
    "id": "6P6M2nabnaY9"
   },
   "outputs": [],
   "source": [
    "G = graph_to_networkx(graph, 'all')"
   ]
  },
  {
   "cell_type": "code",
   "execution_count": null,
   "metadata": {
    "colab": {
     "base_uri": "https://localhost:8080/"
    },
    "id": "b69D7_0v0BEY",
    "outputId": "539fecd1-9327-41d3-939b-bfa59d67e049"
   },
   "outputs": [
    {
     "data": {
      "text/plain": [
       "0.0004974014377421863"
      ]
     },
     "execution_count": 11,
     "metadata": {},
     "output_type": "execute_result"
    }
   ],
   "source": [
    "nx.density(G)"
   ]
  },
  {
   "cell_type": "code",
   "execution_count": null,
   "metadata": {
    "colab": {
     "base_uri": "https://localhost:8080/",
     "height": 265
    },
    "id": "WAFG1TuaN9jM",
    "outputId": "a1cc523d-d355-48cc-9cec-1077638819e6"
   },
   "outputs": [
    {
     "data": {
      "image/png": "[encoded data removed]",
      "text/plain": [
       "<Figure size 432x288 with 1 Axes>"
      ]
     },
     "metadata": {
      "needs_background": "light"
     },
     "output_type": "display_data"
    }
   ],
   "source": [
    "degrees = [G.degree(n) for n in G.nodes()]\n",
    "plt.hist(degrees)\n",
    "plt.show()"
   ]
  },
  {
   "cell_type": "markdown",
   "metadata": {},
   "source": [
    "## EX 2.2"
   ]
  },
  {
   "cell_type": "code",
   "execution_count": null,
   "metadata": {},
   "outputs": [],
   "source": [
    "def page_rank(graph, source, start, end):\n",
    "    start, end = convertDate(start), convertDate(end)\n",
    "    iterations, d = 100, 0.85\n",
    "    n = len(graph)\n",
    "    get_in_degree_user = {user: getDegree(graph[user].get_in_relation, start, end, False)[1] for user in graph}\n",
    "    get_out_degree_user = {user: getDegree(graph[user].get_out_relation, start, end)[0] for user in graph}\n",
    "    page_rank = {node: 1/n for node in graph}\n",
    "    for iteration in range(iterations):\n",
    "        for user in graph:\n",
    "            sum = 0\n",
    "            in_A = get_in_degree_user[user]\n",
    "            for node in in_A:\n",
    "                sum += page_rank[node] / get_out_degree_user[node]\n",
    "            page_rank[user] = (0.15) / n +  d*sum\n",
    "    return  page_rank"
   ]
  },
  {
   "cell_type": "code",
   "execution_count": null,
   "metadata": {},
   "outputs": [],
   "source": [
    "def degreeCentrality(graph, source, start, end):\n",
    "    start = convertDate(start)\n",
    "    end = convertDate(end)\n",
    "    weight = 0\n",
    "    g = graph[source].get_out_relation\n",
    "    for year in g:\n",
    "        for rel in g[year]:\n",
    "            for edge in g[year][rel]:\n",
    "                weight += edge.weight\n",
    "    return weight/(len(graph)-1)"
   ]
  },
  {
   "cell_type": "code",
   "execution_count": null,
   "metadata": {},
   "outputs": [],
   "source": [
    "def GetCloseness(graph, source, start, end):\n",
    "    distances = 0\n",
    "    keys = set(graph.keys())\n",
    "    keys.remove((source))\n",
    "    _, cost = myDijkstra(graph, source, start,end)\n",
    "    cost = np.array(list(cost.values()))\n",
    "    position = np.where(cost != float('inf'))[0]\n",
    "    if sum(cost[position]) == 0: return 0\n",
    "    return round((len(position) - 1) / sum(cost[position]),3)"
   ]
  },
  {
   "cell_type": "code",
   "execution_count": null,
   "metadata": {},
   "outputs": [],
   "source": [
    "from tqdm import tqdm\n",
    "def BetweennessCentrality(graph, source, start, end):\n",
    "    st, stv, el = 0, 0, 0\n",
    "    sum = 0\n",
    "    for s, t in tqdm(graph.items()):\n",
    "        if s != source:\n",
    "            prev, dist, path = dijkstraNumShortesPath(graph, s, start, end)\n",
    "            for t in graph:\n",
    "                if  s != t and t != source:\n",
    "                    if prev[t] != -1:\n",
    "                        all_path = allShortPath(prev, t, s, [], all_path=[]) \n",
    "                        freq = freq_(all_path)\n",
    "                        if freq == -1 :\n",
    "                            freq_source = 0\n",
    "                        else:\n",
    "                            freq_source = freq.get(source, 0)\n",
    "                        if t in path:\n",
    "                            sum += (freq_source) / path.get(t, 0)\n",
    "    return round(sum / ((len(graph) -2) * (len(graph) - 1)), 3)"
   ]
  },
  {
   "cell_type": "code",
   "execution_count": null,
   "metadata": {},
   "outputs": [],
   "source": [
    "GetCloseness(graph, 3, \"08/2008\", \"01/2009\")"
   ]
  },
  {
   "cell_type": "markdown",
   "metadata": {
    "id": "rBrbk9eRd7Yy"
   },
   "source": [
    "## EX 2.3"
   ]
  },
  {
   "cell_type": "code",
   "execution_count": 11,
   "metadata": {},
   "outputs": [
    {
     "name": "stdout",
     "output_type": "stream",
     "text": [
      "The shortest ordered route between 1 and 49 is: [1, 49, 17, 49] \n",
      "and it costs: 3\n"
     ]
    }
   ],
   "source": [
    "p_1,p_n = 1, 49\n",
    "orderedRoute = [17]\n",
    "start = \"08/2008\"\n",
    "end = \"12/2008\"\n",
    "\n",
    "with open('graph (1).pickle', 'rb') as handle:\n",
    "    graph = pickle.load(handle)\n",
    "    \n",
    "bestPath, cost = shortestOrderedRoute(graph,start, end,orderedRoute,p_1,p_n)\n",
    "\n",
    "print(\"The shortest ordered route between\", p_1, \"and\", p_n,\"is:\",bestPath, \"\\nand it costs:\", cost)"
   ]
  },
  {
   "cell_type": "markdown",
   "metadata": {},
   "source": [
    "## EX 2.4"
   ]
  },
  {
   "cell_type": "code",
   "execution_count": null,
   "metadata": {},
   "outputs": [],
   "source": [
    "def minCut(graph, source, target, start=200808, end=201612):\n",
    "    res = createResidualG(graph)\n",
    "    max_flow = 0\n",
    "    path = dict()\n",
    "\n",
    "    while BFS(res, source, target, path)[0]:\n",
    "        bottleneck = getBottleneck(path, source, target)\n",
    "        max_flow += bottleneck\n",
    "        updateResGraph(res, path, bottleneck, source, target)\n",
    "    \n",
    "    print(\"Max Flow is:\", max_flow)\n",
    "    reachable = reachFromS(res, source) \n",
    "    edges = set()\n",
    "    capacity = 0\n",
    "    for v in reachable:\n",
    "        neighbor = graph[v].get_out_relation\n",
    "        for year in neighbor:\n",
    "            for rel in neighbor[year]:\n",
    "                for i in range(len(neighbor[year][rel])):\n",
    "                    relX = res[v].get_out_relation[year][rel][i]\n",
    "                    rely = graph[v].get_out_relation[year][rel][i]\n",
    "\n",
    "                    if (start <= relX.time <= end) and relX.weight == 0 and relX.target not in reachable and (v, relX.target) not in edges:\n",
    "                        edges.add((v, relX.target))\n",
    "                        capacity += rely.weight \n",
    "                \n",
    "    print(\"Capacity is:\", capacity)\n",
    "    return edges"
   ]
  },
  {
   "cell_type": "markdown",
   "metadata": {},
   "source": [
    "# 4. Algorithmic question\n",
    "\n",
    "We need to create an algorithm that given as input a list of k pairs of n kids that may argue, it try to split them in two dormitories."
   ]
  },
  {
   "cell_type": "markdown",
   "metadata": {},
   "source": [
    "To test if it was possible to divide the children into two dormitories, we create an auxilary function **assign_dormitory_to_child** which,given as input:\n",
    "- the current *child*,\n",
    "- the set of *dormitory_1* and *dormitory_2*, \n",
    "- the child with whom he might argue *not_with* \n",
    "- the set of the remaining *children*\n",
    "it outputs whether is possible to *assign* the current *child*, the update of *dormitory_1* and *dormitory_2* and the set of the remaining *children*."
   ]
  },
  {
   "cell_type": "markdown",
   "metadata": {},
   "source": [
    "**assign_dormitory_to_child** checks if *child* is already in one of the two dormitories, if not, checks if in *dormitory_1* there is already the child with whom he would figth with (*not_with*), in the positive case add *child* to *dormitory_2*, otherwise try to insert him in *dormitory_1*."
   ]
  },
  {
   "cell_type": "code",
   "execution_count": 1,
   "metadata": {},
   "outputs": [],
   "source": [
    "def assign_dormitory_to_child(child, dormitory_1, dormitory_2, not_with, children):\n",
    "    assign = False\n",
    "    if child not in dormitory_1 and child not in dormitory_2: #if no dormitory has been assigned to child \n",
    "        if not_with in dormitory_1: # if child_2 in dormitory_1, so we put child_1 in dormitory_2\n",
    "            dormitory_2.add(child)\n",
    "        else:\n",
    "            dormitory_1.add(child)\n",
    "        assign = True\n",
    "        # updtating the set with the remaining kids\n",
    "        children.remove(child)\n",
    "    return assign, dormitory_1, dormitory_2, children"
   ]
  },
  {
   "cell_type": "markdown",
   "metadata": {},
   "source": [
    "The function **create_pair** receives in input the number of kids *n* and the list of pairs of kids arguing *list_pair*, then we try to create the dormitories by scrolling the list. In case we find two children who cannot stay in the same dormitory we return the state of impossibility in creating the dormitories. \n",
    "\n",
    "If we can get all the kids who can fight to the right dormitory, we divide the rest of the children equally between the two dorms."
   ]
  },
  {
   "cell_type": "code",
   "execution_count": 5,
   "metadata": {},
   "outputs": [],
   "source": [
    "def create_pair(n, list_pair):\n",
    "    children = {i for i in range(n)} #set of children to be assigned a dormitory \n",
    "    dormitory_1 = set()\n",
    "    dormitory_2 = set()\n",
    "    for child_1, child_2 in list_pair:\n",
    "        # check if (child_1, child_2) it's repeating and the two kids have already been placed in the right dorm \n",
    "        if (child_1 in dormitory_1 and child_2 in dormitory_2) or (child_1 in dormitory_2 and child_2 in dormitory_1):\n",
    "            continue\n",
    "        else:\n",
    "            # try to assign dormitory to child_1\n",
    "            assign_dormitory_child_1, dormitory_1, dormitory_2, children = assign_dormitory_to_child(child_1, dormitory_1, dormitory_2, child_2, children)\n",
    "            # try to assign dormitory to child_2\n",
    "            assign_dormitory_child_2, dormitory_1, dormitory_2, children = assign_dormitory_to_child(child_2, dormitory_1, dormitory_2, child_1, children)\n",
    "            # if both have not been assigned a dormitory \n",
    "            if not assign_dormitory_child_1 and not assign_dormitory_child_2: \n",
    "                return \"It's not possibile to divide the kids in two dormitories.\"\n",
    "    # dividing the remaining kids equally\n",
    "    for i, child in enumerate(children):\n",
    "        if i % 2 == 0:\n",
    "            dormitory_1.add(child)\n",
    "        else:\n",
    "            dormitory_2.add(child)     \n",
    "    print(\"The kid in the first dormitory are:\", dormitory_1,\"\\nThe kid in the second dormitory are:\", dormitory_2 )"
   ]
  },
  {
   "cell_type": "markdown",
   "metadata": {},
   "source": [
    "Lastly we decided to create a random list containing the k pairs, in order to test our algorithm."
   ]
  },
  {
   "cell_type": "code",
   "execution_count": 11,
   "metadata": {},
   "outputs": [],
   "source": [
    "# generate random integer values\n",
    "from random import seed\n",
    "from random import randint\n",
    "\n",
    "def dislikes(k,n):\n",
    "    dislike = []\n",
    "    # seed random number generator\n",
    "    seed(124)\n",
    "    for _ in range(k):\n",
    "        # generate some integers\n",
    "        x = randint(0, n)\n",
    "        y = randint(0, n)\n",
    "        \n",
    "        while x == y:\n",
    "            y = randint(0, n)\n",
    "            \n",
    "        dislike.append((x,y))\n",
    "    return dislike"
   ]
  },
  {
   "cell_type": "code",
   "execution_count": 15,
   "metadata": {},
   "outputs": [
    {
     "name": "stdout",
     "output_type": "stream",
     "text": [
      "[(8, 17), (0, 5), (1, 13), (8, 11), (1, 10), (5, 12), (9, 13)]\n",
      "The kid in the first dormitory are: {0, 1, 2, 4, 7, 8, 9, 12, 15, 18, 20} \n",
      "The kid in the second dormitory are: {3, 5, 6, 10, 11, 13, 14, 16, 17, 19}\n"
     ]
    }
   ],
   "source": [
    "n,k = 21 ,7\n",
    "l = dislikes(k,n)\n",
    "print(l)\n",
    "create_pair(n,l)"
   ]
  },
  {
   "cell_type": "code",
   "execution_count": 16,
   "metadata": {},
   "outputs": [
    {
     "name": "stdout",
     "output_type": "stream",
     "text": [
      "The kid in the first dormitory are: {0, 2, 3, 4, 5, 6} \n",
      "The kid in the second dormitory are: {1}\n"
     ]
    }
   ],
   "source": [
    "l = [(0,1), (1,2),(1,3),(1,4),(1,5),(1,6)]\n",
    "create_pair(7,l)"
   ]
  },
  {
   "cell_type": "code",
   "execution_count": 17,
   "metadata": {},
   "outputs": [
    {
     "data": {
      "text/plain": [
       "\"It's not possibile to divide the kids in two dormitories.\""
      ]
     },
     "execution_count": 17,
     "metadata": {},
     "output_type": "execute_result"
    }
   ],
   "source": [
    "l = [(1,2),(1,3),(2,3)]\n",
    "create_pair(4,l)"
   ]
  },
  {
   "cell_type": "code",
   "execution_count": 21,
   "metadata": {},
   "outputs": [
    {
     "name": "stdout",
     "output_type": "stream",
     "text": [
      "The kid in the first dormitory are: {0, 2, 4, 6} \n",
      "The kid in the second dormitory are: {1, 3, 5, 7}\n"
     ]
    }
   ],
   "source": [
    "l = [(0,1),(1,0),(2,3),(4,5),(6,7)]\n",
    "create_pair(8,l)"
   ]
  },
  {
   "cell_type": "markdown",
   "metadata": {
    "tags": []
   },
   "source": [
    "### Computational analysis\n",
    "\n",
    "Let’s check the computational cost of our algorithm **create_pair**: "
   ]
  },
  {
   "cell_type": "markdown",
   "metadata": {},
   "source": [
    "First of all we notice that **assign_dormitory_to_child** has a cost approximated to $\\theta(1)$, because we are just checking if a element is in a set or adding/removing an element from it and that has a cost equal to $\\theta(1)$. Therefore the cost of the whole algorithm is equal to $6*\\theta(1) = \\theta(6)$, but asymptotically it is $\\,\\simeq\\theta(1)$."
   ]
  },
  {
   "cell_type": "markdown",
   "metadata": {},
   "source": [
    "This function is called in a for loop which is repeated for *k* times (the length of *list_pair*), so the first part of the code has a cost equal to $k*\\theta(1)$, that is $\\theta(k)$."
   ]
  },
  {
   "cell_type": "markdown",
   "metadata": {},
   "source": [
    "The last part of the algorithm consist in a for loop on the remaining kids, that are $n-k$, so this part has a cost equal to $(n-k)*\\theta(1)$, that is $\\theta(n-k)\\simeq\\theta(n)$."
   ]
  },
  {
   "cell_type": "markdown",
   "metadata": {},
   "source": [
    "In conclusion our algorithm costs: $2*\\theta(k)+\\theta(n) = \\theta(2k)+\\theta(n) \\simeq \\theta(k)+\\theta(n)$."
   ]
  }
 ],
 "metadata": {
  "application/vnd.databricks.v1+notebook": {
   "dashboards": [],
   "language": "python",
   "notebookMetadata": {
    "pythonIndentUnit": 2
   },
   "notebookName": "Classification",
   "notebookOrigID": 3966539020232142,
   "widgets": {}
  },
  "colab": {
   "collapsed_sections": [],
   "machine_shape": "hm",
   "name": "ADM HW5_Mina.ipynb",
   "provenance": []
  },
  "kernelspec": {
   "display_name": "Python 3 (ipykernel)",
   "language": "python",
   "name": "python3"
  },
  "language_info": {
   "codemirror_mode": {
    "name": "ipython",
    "version": 3
   },
   "file_extension": ".py",
   "mimetype": "text/x-python",
   "name": "python",
   "nbconvert_exporter": "python",
   "pygments_lexer": "ipython3",
   "version": "3.8.1"
  }
 },
 "nbformat": 4,
 "nbformat_minor": 4
}
