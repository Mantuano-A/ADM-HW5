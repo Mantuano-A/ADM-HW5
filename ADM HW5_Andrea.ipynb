{
 "cells": [
  {
   "cell_type": "markdown",
   "metadata": {},
   "source": [
    "## Functionality 3 - Shortest Ordered Route "
   ]
  },
  {
   "cell_type": "code",
   "execution_count": 1,
   "metadata": {
    "colab": {
     "base_uri": "https://localhost:8080/"
    },
    "executionInfo": {
     "elapsed": 1415,
     "status": "ok",
     "timestamp": 1639087926805,
     "user": {
      "displayName": "Mina Makar",
      "photoUrl": "https://lh3.googleusercontent.com/a/default-user=s64",
      "userId": "07739373827734700438"
     },
     "user_tz": -60
    },
    "id": "Hx932cVxi7x5",
    "outputId": "d723f82e-21b7-4bbf-e235-2911a2ae27df"
   },
   "outputs": [],
   "source": [
    "#from google.colab import drive\n",
    "#drive.mount('/content/drive/')"
   ]
  },
  {
   "cell_type": "code",
   "execution_count": 2,
   "metadata": {
    "id": "eSlaXRsOalMA"
   },
   "outputs": [],
   "source": [
    "import pickle\n",
    "import pandas as pd\n",
    "import numpy as np\n",
    "import matplotlib.pyplot as plt\n",
    "import gzip\n",
    "import json\n",
    "import time\n",
    "from datetime import datetime\n",
    "\n",
    "import warnings\n",
    "warnings.filterwarnings(\"ignore\")"
   ]
  },
  {
   "cell_type": "code",
   "execution_count": 3,
   "metadata": {
    "id": "VJP1TBsUYl-5"
   },
   "outputs": [],
   "source": [
    "class Relation:\n",
    "    def __init__(self, type_relation, time, source, target, weight):\n",
    "        self.type_relation_ = type_relation\n",
    "        self.time_ = time\n",
    "        self.source_ = source.get_ID\n",
    "        self.target_ = target.get_ID\n",
    "        self.weight_ = weight\n",
    "\n",
    "    @property\n",
    "    def get_type(self):\n",
    "        return self.type_relation_\n",
    "    \n",
    "    @property\n",
    "    def time(self):\n",
    "        return self.time_\n",
    "    \n",
    "    @property\n",
    "    def target(self):\n",
    "        return self.target_\n",
    "    \n",
    "    @property\n",
    "    def source(self):\n",
    "        return self.source_\n",
    "    \n",
    "    @property\n",
    "    def weight(self):\n",
    "        return self.weight_\n",
    "    \n",
    "    def set_weight(self, weight):\n",
    "        self.weight_ = weight\n",
    "    \n",
    "    def __str__(self): \n",
    "        return \"{\\\"type_relation\\\": \\\"\" + self.type_relation_ + \"\\\", \\\"time\\\": \" + str(self.time_) + \", \\\"source\\\": \" + str(self.source_) + \", \\\"target\\\": \" + \\\n",
    "        str(self.target_) + \", \\\"weight\\\": \"+ str(self.weight_) + \"}\"\n",
    "    \n",
    "    def __repr__(self): \n",
    "        return self.__str__()\n",
    "    \n",
    "    \n",
    "     \n",
    "\n",
    "class User:\n",
    "    def __init__(self, ID_user):\n",
    "        self.ID_user = ID_user\n",
    "        self.in_relation = dict()\n",
    "        self.out_relation = dict()\n",
    "\n",
    "    def add_in_relation(self, in_relation):\n",
    "        if in_relation.time in self.in_relation:\n",
    "            if in_relation.get_type not in self.in_relation[in_relation.time]:\n",
    "                self.in_relation[in_relation.time][in_relation.get_type] = []\n",
    "        else:\n",
    "            self.in_relation[in_relation.time] = {in_relation.get_type: []}\n",
    "        self.in_relation[in_relation.time][in_relation.get_type].append(in_relation)\n",
    "\n",
    "    \n",
    "    def add_out_relation(self, out_relation):\n",
    "        if out_relation.time in self.out_relation:\n",
    "            if out_relation.get_type not in self.out_relation[out_relation.time]:\n",
    "                self.out_relation[out_relation.time][out_relation.get_type] = []\n",
    "        else:\n",
    "            self.out_relation[out_relation.time] = {out_relation.get_type: []}\n",
    "        self.out_relation[out_relation.time][out_relation.get_type].append(out_relation)\n",
    "    \n",
    "    def set_in_relation(inRelations):\n",
    "        self.in_relation = inRelations\n",
    "    \n",
    "    def set_out_relation(outRelation):\n",
    "        self.out_relation = outRelation\n",
    "\n",
    "    @classmethod\n",
    "    def from_json(cls, json):\n",
    "        return cls(json[\"ID_user\"])\n",
    "    \n",
    "    @property\n",
    "    def get_ID(self):\n",
    "        return self.ID_user\n",
    "\n",
    "    @property\n",
    "    def get_in_relation(self):\n",
    "        return self.in_relation\n",
    "    \n",
    "    @property\n",
    "    def get_out_relation(self):\n",
    "        return self.out_relation\n",
    "\n",
    "    def __str__(self):\n",
    "        return \"{\\\"in_relation\\\": \" + str(self.in_relation) +  \", \\\"out_relation\\\": \" + str(self.out_relation) + \"}\"\n",
    "\n",
    "    def to_json(self):\n",
    "        return {\"in_relation\": self.in_relation, \"out_relation\":self.out_relation }\n",
    "\n",
    "    def __repr__(self): \n",
    "        return self.__str__()"
   ]
  },
  {
   "cell_type": "code",
   "execution_count": 4,
   "metadata": {},
   "outputs": [],
   "source": [
    "def getMinUnvisited(unvisited, dist):\n",
    "    aux = {key: dist[key] for key in unvisited}\n",
    "    minimum = min(aux.values())\n",
    "    for key in unvisited:\n",
    "        if dist[key] == minimum:\n",
    "            return key"
   ]
  },
  {
   "cell_type": "code",
   "execution_count": 5,
   "metadata": {},
   "outputs": [],
   "source": [
    "def convertDate(time):\n",
    "    tmp = time.split(\"/\")\n",
    "    return int(tmp[1] + tmp[0])"
   ]
  },
  {
   "cell_type": "code",
   "execution_count": 6,
   "metadata": {},
   "outputs": [],
   "source": [
    "def getShortestPath(source, target, prev, dist):\n",
    "    path = [target]\n",
    "    cost = dist[target]\n",
    "    while target != source:\n",
    "        path.append(prev[target])\n",
    "        target = prev[target]\n",
    "    path.reverse()\n",
    "    return path, cost"
   ]
  },
  {
   "cell_type": "code",
   "execution_count": 7,
   "metadata": {},
   "outputs": [],
   "source": [
    "def getNeighbors(node, graph, start, end):\n",
    "    neighbors = []\n",
    "    x = graph[node].get_out_relation\n",
    "    for date in x.keys():\n",
    "        if start <= date <= end:\n",
    "            for rel in x[date].keys():\n",
    "                neighbors.extend([x[date][rel][i].target for i in range(len(x[date][rel]))])\n",
    "    return set(neighbors)"
   ]
  },
  {
   "cell_type": "code",
   "execution_count": 8,
   "metadata": {},
   "outputs": [],
   "source": [
    "def overallWeight(source, target,start, end):\n",
    "    w = 0\n",
    "    x = graph[source].get_out_relation\n",
    "    for date in x.keys():\n",
    "        if start <= date <= end: \n",
    "            for rel in x[date].keys():\n",
    "                for i in range(len(x[date][rel])):\n",
    "                    if x[date][rel][i].target == target:\n",
    "                        w += x[date][rel][i].weight\n",
    "    return w"
   ]
  },
  {
   "cell_type": "code",
   "execution_count": 9,
   "metadata": {},
   "outputs": [],
   "source": [
    "def myDijkstra(graph, source, target, start, end):\n",
    "    unvisited = set(graph.keys())\n",
    "    dist = dict()\n",
    "    prev = dict()\n",
    "    \n",
    "    for u in unvisited:\n",
    "        dist[u] = float('inf')\n",
    "        prev[u] = -1\n",
    "    \n",
    "    dist[source] = 0    \n",
    "    \n",
    "    while len(unvisited) > 0: #TO ADD: loop not connected\n",
    "        \n",
    "        current_node = getMinUnvisited(unvisited, dist)\n",
    "        unvisited.remove(current_node)\n",
    "        neighbor = getNeighbors(current_node,graph, start, end)\n",
    "        \n",
    "        for u in unvisited.intersection(neighbor):\n",
    "            new_dist = dist[current_node] + overallWeight(current_node,u, start, end)\n",
    "            if new_dist < dist[u]:\n",
    "                dist[u] = new_dist\n",
    "                prev[u] = current_node \n",
    "                \n",
    "    return getShortestPath(source, target, prev, dist)"
   ]
  },
  {
   "cell_type": "code",
   "execution_count": 10,
   "metadata": {},
   "outputs": [],
   "source": [
    "def shortestOrderedRoute(graph, start, end, seq_users, p_1, p_n):\n",
    "    nodes = [p_1] + seq_users + [p_n]\n",
    "    path = [p_1]\n",
    "    weight = 0\n",
    "    start = convertDate(start)\n",
    "    end = convertDate(end)\n",
    "    for i in range(len(nodes)-1):\n",
    "        seq, w = myDijkstra(graph, nodes[i], nodes[i+1], start, end)\n",
    "        if w < float('inf'):\n",
    "            path.extend(seq[1:])\n",
    "            weight += w\n",
    "        else:\n",
    "            print(\"It is not possible to find the shortest ordered route because node\", nodes[i], \"and node\", nodes[i+1], \"are not connected!\")\n",
    "            return \n",
    "    return path, weight"
   ]
  },
  {
   "cell_type": "code",
   "execution_count": 11,
   "metadata": {},
   "outputs": [
    {
     "name": "stdout",
     "output_type": "stream",
     "text": [
      "The shortest ordered route between 1 and 49 is: [1, 49, 17, 49] \n",
      "and it costs: 3\n"
     ]
    }
   ],
   "source": [
    "p_1,p_n = 1, 49\n",
    "orderedRoute = [17]\n",
    "start = \"08/2008\"\n",
    "end = \"12/2008\"\n",
    "\n",
    "with open('graph (1).pickle', 'rb') as handle:\n",
    "    graph = pickle.load(handle)\n",
    "    \n",
    "bestPath, cost = shortestOrderedRoute(graph,start, end,orderedRoute,p_1,p_n)\n",
    "\n",
    "print(\"The shortest ordered route between\", p_1, \"and\", p_n,\"is:\",bestPath, \"\\nand it costs:\", cost)"
   ]
  }
 ],
 "metadata": {
  "application/vnd.databricks.v1+notebook": {
   "dashboards": [],
   "language": "python",
   "notebookMetadata": {
    "pythonIndentUnit": 2
   },
   "notebookName": "Classification",
   "notebookOrigID": 3966539020232142,
   "widgets": {}
  },
  "colab": {
   "collapsed_sections": [],
   "machine_shape": "hm",
   "name": "ADM HW5_Andrea.ipynb",
   "provenance": [],
   "toc_visible": true
  },
  "kernelspec": {
   "display_name": "Python 3",
   "language": "python",
   "name": "python3"
  },
  "language_info": {
   "codemirror_mode": {
    "name": "ipython",
    "version": 3
   },
   "file_extension": ".py",
   "mimetype": "text/x-python",
   "name": "python",
   "nbconvert_exporter": "python",
   "pygments_lexer": "ipython3",
   "version": "3.8.8"
  }
 },
 "nbformat": 4,
 "nbformat_minor": 1
}
