{
 "cells": [
  {
   "cell_type": "markdown",
   "metadata": {},
   "source": [
    "## Functionality 3 - Shortest Ordered Route "
   ]
  },
  {
   "cell_type": "code",
   "execution_count": 1,
   "metadata": {
    "colab": {
     "base_uri": "https://localhost:8080/"
    },
    "executionInfo": {
     "elapsed": 1415,
     "status": "ok",
     "timestamp": 1639087926805,
     "user": {
      "displayName": "Mina Makar",
      "photoUrl": "https://lh3.googleusercontent.com/a/default-user=s64",
      "userId": "07739373827734700438"
     },
     "user_tz": -60
    },
    "id": "Hx932cVxi7x5",
    "outputId": "d723f82e-21b7-4bbf-e235-2911a2ae27df"
   },
   "outputs": [],
   "source": [
    "#from google.colab import drive\n",
    "#drive.mount('/content/drive/')"
   ]
  },
  {
   "cell_type": "code",
   "execution_count": 7,
   "metadata": {
    "id": "eSlaXRsOalMA"
   },
   "outputs": [],
   "source": [
    "import pickle\n",
    "import pandas as pd\n",
    "import numpy as np\n",
    "import matplotlib.pyplot as plt\n",
    "import gzip\n",
    "import json\n",
    "import time\n",
    "from datetime import datetime\n",
    "\n",
    "import warnings\n",
    "warnings.filterwarnings(\"ignore\")"
   ]
  },
  {
   "cell_type": "code",
   "execution_count": 11,
   "metadata": {
    "id": "VJP1TBsUYl-5"
   },
   "outputs": [],
   "source": [
    "class Relation:\n",
    "    def __init__(self, type_relation, time, source, target, weight):\n",
    "        self.type_relation_ = type_relation\n",
    "        self.time_ = time\n",
    "        self.source_ = source.get_ID\n",
    "        self.target_ = target.get_ID\n",
    "        self.weight_ = weight\n",
    "\n",
    "    @property\n",
    "    def get_type(self):\n",
    "        return self.type_relation_\n",
    "    \n",
    "    @property\n",
    "    def time(self):\n",
    "        return self.time_\n",
    "    \n",
    "    @property\n",
    "    def target(self):\n",
    "        return self.target_\n",
    "    \n",
    "    @property\n",
    "    def source(self):\n",
    "        return self.source_\n",
    "    \n",
    "    @property\n",
    "    def weight(self):\n",
    "        return self.weight_\n",
    "    \n",
    "    def set_weight(self, weight):\n",
    "        self.weight_ = weight\n",
    "    \n",
    "    def __str__(self): \n",
    "        return \"{\\\"type_relation\\\": \\\"\" + self.type_relation_ + \"\\\", \\\"time\\\": \" + str(self.time_) + \", \\\"source\\\": \" + str(self.source_) + \", \\\"target\\\": \" + \\\n",
    "        str(self.target_) + \", \\\"weight\\\": \"+ str(self.weight_) + \"}\"\n",
    "    \n",
    "    def __repr__(self): \n",
    "        return self.__str__()\n",
    "    \n",
    "    \n",
    "     \n",
    "\n",
    "class User:\n",
    "    def __init__(self, ID_user):\n",
    "        self.ID_user = ID_user\n",
    "        self.in_relation = dict()\n",
    "        self.out_relation = dict()\n",
    "\n",
    "    def add_in_relation(self, in_relation):\n",
    "        if in_relation.time in self.in_relation:\n",
    "            if in_relation.get_type not in self.in_relation[in_relation.time]:\n",
    "                self.in_relation[in_relation.time][in_relation.get_type] = []\n",
    "        else:\n",
    "            self.in_relation[in_relation.time] = {in_relation.get_type: []}\n",
    "        self.in_relation[in_relation.time][in_relation.get_type].append(in_relation)\n",
    "\n",
    "    \n",
    "    def add_out_relation(self, out_relation):\n",
    "        if out_relation.time in self.out_relation:\n",
    "            if out_relation.get_type not in self.out_relation[out_relation.time]:\n",
    "                self.out_relation[out_relation.time][out_relation.get_type] = []\n",
    "        else:\n",
    "            self.out_relation[out_relation.time] = {out_relation.get_type: []}\n",
    "        self.out_relation[out_relation.time][out_relation.get_type].append(out_relation)\n",
    "    \n",
    "    def set_in_relation(inRelations):\n",
    "        self.in_relation = inRelations\n",
    "    \n",
    "    def set_out_relation(outRelation):\n",
    "        self.out_relation = outRelation\n",
    "\n",
    "    @classmethod\n",
    "    def from_json(cls, json):\n",
    "        return cls(json[\"ID_user\"])\n",
    "    \n",
    "    @property\n",
    "    def get_ID(self):\n",
    "        return self.ID_user\n",
    "\n",
    "    @property\n",
    "    def get_in_relation(self):\n",
    "        return self.in_relation\n",
    "    \n",
    "    @property\n",
    "    def get_out_relation(self):\n",
    "        return self.out_relation\n",
    "\n",
    "    def __str__(self):\n",
    "        return \"{\\\"in_relation\\\": \" + str(self.in_relation) +  \", \\\"out_relation\\\": \" + str(self.out_relation) + \"}\"\n",
    "\n",
    "    def to_json(self):\n",
    "        return {\"in_relation\": self.in_relation, \"out_relation\":self.out_relation }\n",
    "\n",
    "    def __repr__(self): \n",
    "        return self.__str__()"
   ]
  },
  {
   "cell_type": "code",
   "execution_count": 12,
   "metadata": {},
   "outputs": [],
   "source": [
    "def create_graph(df, type_node, weight, users):\n",
    "    for index, row in df.iterrows():\n",
    "        year_month = int(str(row[2])[:-2])\n",
    "        source_ = int(row[1])\n",
    "        target_ = int(row[0])\n",
    "        source, users = get_user(source_, users)\n",
    "        target, users = get_user(target_, users)\n",
    "        rel = Relation(type_node, year_month, source, target, weight)\n",
    "        users[target_].add_in_relation(rel)\n",
    "        users[source_].add_out_relation(rel)    \n",
    "    return users"
   ]
  },
  {
   "cell_type": "code",
   "execution_count": 13,
   "metadata": {},
   "outputs": [],
   "source": [
    "def get_user(user, dict_users):\n",
    "    if user not in dict_users:\n",
    "        user_obj = User(user)\n",
    "        dict_users[user] = user_obj\n",
    "    return dict_users[user], dict_users"
   ]
  },
  {
   "cell_type": "code",
   "execution_count": 14,
   "metadata": {},
   "outputs": [],
   "source": [
    "def getMinUnvisited(unvisited, dist):\n",
    "    result, dist_min = -1 , float('inf')\n",
    "    \n",
    "    aux = {key: dist[key] for key in unvisited}\n",
    "    return min(aux, key=aux.get)"
   ]
  },
  {
   "cell_type": "code",
   "execution_count": 15,
   "metadata": {},
   "outputs": [],
   "source": [
    "def getMinUnvisited(unvisited, dist):\n",
    "    aux = {key: dist[key] for key in unvisited}\n",
    "    minimum = min(aux.values())\n",
    "    for key in unvisited:\n",
    "        if dist[key] == minimum:\n",
    "            return key"
   ]
  },
  {
   "cell_type": "code",
   "execution_count": 16,
   "metadata": {},
   "outputs": [],
   "source": [
    "def convertDate(time):\n",
    "    tmp = time.split(\"/\")\n",
    "    return int(tmp[1] + tmp[0])"
   ]
  },
  {
   "cell_type": "code",
   "execution_count": 17,
   "metadata": {},
   "outputs": [],
   "source": [
    "def getShortestPath(source, target, prev, dist):\n",
    "    path = [target]\n",
    "    cost = dist[target]\n",
    "    while target != source:\n",
    "        path.append(prev[target])\n",
    "        target = prev[target]\n",
    "    path.reverse()\n",
    "    return path, cost"
   ]
  },
  {
   "cell_type": "code",
   "execution_count": 18,
   "metadata": {},
   "outputs": [],
   "source": [
    "def getNeighbors(node, graph, start, end):\n",
    "    neighbors = dict()\n",
    "    x = graph[node].get_out_relation\n",
    "    for date in x.keys():\n",
    "        if start <= date <= end:\n",
    "            for rel in x[date].keys():\n",
    "                for edge in x[date][rel]:\n",
    "                    #print(x[date][rel])\n",
    "                    target = edge.target\n",
    "                    weight = edge.weight\n",
    "                    neighbors[target] = neighbors.get(target, weight) + weight\n",
    "                    #neighbors[] = neighbors[x[date][rel][edge].target].get(x[date][rel][edge], )\n",
    "                #neighbors.extend([x[date][rel][i].target for i in range(len(x[date][rel]))])\n",
    "                #neighbors.update([x[date][rel][i].target for i in range(len(x[date][rel]))])\n",
    "    return neighbors"
   ]
  },
  {
   "cell_type": "code",
   "execution_count": 19,
   "metadata": {},
   "outputs": [],
   "source": [
    "def overallWeight(graph,source, target,start, end):\n",
    "    w = 0\n",
    "    x = graph[source].get_out_relation\n",
    "    for date in x.keys():\n",
    "        if start <= date <= end: \n",
    "            for rel in x[date].keys():\n",
    "                for i in range(len(x[date][rel])):\n",
    "                    if x[date][rel][i].target == target:\n",
    "                        w += x[date][rel][i].weight\n",
    "    return w"
   ]
  },
  {
   "cell_type": "code",
   "execution_count": 11,
   "metadata": {},
   "outputs": [],
   "source": [
    "def myDijkstra(graph, source, start, end):\n",
    "    start = convertDate(start)\n",
    "    end = convertDate(end)\n",
    "    \n",
    "    visited = set()\n",
    "    unvisited = set(graph.keys())\n",
    "    dist = dict()\n",
    "    prev = dict()\n",
    "    \n",
    "    for u in unvisited:\n",
    "        dist[u] = float('inf')\n",
    "        prev[u] = -1\n",
    "    \n",
    "    dist[source] = 0    \n",
    "    visited.add(source)\n",
    "\n",
    "    while len(unvisited) > 0 or not set(neighbor.keys()).issubset(visited): \n",
    "        #print(len(unvisited))      \n",
    "        current_node = getMinUnvisited(unvisited, dist)\n",
    "         \n",
    "        unvisited.remove(current_node)\n",
    "            #print(unvisited, '\\n',current_node) \n",
    "        visited.add(current_node)\n",
    "        neighbor = getNeighbors(current_node,graph, start, end)\n",
    "        \n",
    "        for u in unvisited.intersection(set(neighbor.keys())):\n",
    "            new_dist = dist[current_node] + neighbor[u]\n",
    "            if new_dist < dist[u]:\n",
    "                dist[u] = new_dist\n",
    "                prev[u] = current_node      \n",
    "\n",
    "    return prev, dist"
   ]
  },
  {
   "cell_type": "code",
   "execution_count": 12,
   "metadata": {},
   "outputs": [],
   "source": [
    "def shortestOrderedRoute(graph, start, end, seq_users, p_1, p_n):\n",
    "    nodes = [p_1] + seq_users + [p_n]\n",
    "    path = [p_1]\n",
    "    weight = 0\n",
    "    \n",
    "    for i in range(len(nodes)-1):\n",
    "        prev, dist = myDijkstra(graph, nodes[i], start, end)\n",
    "        seq, w = getShortestPath(nodes[i], nodes[i+1], prev, dist)\n",
    "        if w < float('inf'):\n",
    "            path.extend(seq[1:])\n",
    "            weight += w\n",
    "        else:\n",
    "            print(\"It is not possible to find the shortest ordered route because node\", nodes[i], \"and node\", nodes[i+1], \"are not connected!\")\n",
    "            return \n",
    "    return path, weight"
   ]
  },
  {
   "cell_type": "code",
   "execution_count": 3,
   "metadata": {},
   "outputs": [],
   "source": [
    "p_1,p_n = 1, 49\n",
    "orderedRoute = [17]\n",
    "start = \"08/2008\"\n",
    "end = \"12/2008\"\n",
    "\n",
    "with open('graph (1).pickle', 'rb') as handle:\n",
    "    graph = pickle.load(handle)"
   ]
  },
  {
   "cell_type": "code",
   "execution_count": 16,
   "metadata": {},
   "outputs": [
    {
     "name": "stdout",
     "output_type": "stream",
     "text": [
      "The shortest ordered route between 1 and 49 is: [1, 49, 17, 49] \n",
      "and it costs: 6\n"
     ]
    }
   ],
   "source": [
    "bestPath, cost = shortestOrderedRoute(graph,start, end,orderedRoute,p_1,p_n)\n",
    "\n",
    "print(\"The shortest ordered route between\", p_1, \"and\", p_n,\"is:\",bestPath, \"\\nand it costs:\", cost)"
   ]
  },
  {
   "cell_type": "markdown",
   "metadata": {},
   "source": [
    "## Functionality 2"
   ]
  },
  {
   "cell_type": "code",
   "execution_count": 167,
   "metadata": {},
   "outputs": [],
   "source": [
    "import networkx as nx"
   ]
  },
  {
   "cell_type": "code",
   "execution_count": 210,
   "metadata": {},
   "outputs": [],
   "source": [
    "def graph_to_networkx(graph, type_graph): #if type_graph is all, this mean we must to add all type of node\n",
    "    G = nx.DiGraph()\n",
    "    for user in graph:\n",
    "        for year in graph[user].get_out_relation:\n",
    "            for type_relation in graph[user].get_out_relation[year]:\n",
    "                if type_relation == type_graph or type_graph.lower() == 'all':\n",
    "                    for relation in graph[user].get_out_relation[year][type_relation]:\n",
    "                        G.add_nodes_from([user, relation.target])\n",
    "                        G.add_edge(user, relation.target, weight=relation.weight, time=year)\n",
    "    return G"
   ]
  },
  {
   "cell_type": "code",
   "execution_count": 159,
   "metadata": {},
   "outputs": [],
   "source": [
    "def GetCloseness(graph, source, start, end):\n",
    "    distances = 0\n",
    "    keys = set(graph.keys())\n",
    "    keys.remove((source))\n",
    "    _, cost = myDijkstra(graph, source, start,end)\n",
    "    cost = np.array(list(cost.values()))\n",
    "    position = np.where(cost != float('inf'))[0]\n",
    "    if sum(cost[position]) == 0: return 0\n",
    "    return round((len(position) - 1) / sum(cost[position]),3)"
   ]
  },
  {
   "cell_type": "code",
   "execution_count": 7,
   "metadata": {},
   "outputs": [],
   "source": [
    "with open('graph (1).pickle', 'rb') as handle:\n",
    "    graph = pickle.load(handle)"
   ]
  },
  {
   "cell_type": "code",
   "execution_count": null,
   "metadata": {},
   "outputs": [],
   "source": [
    "GetCloseness(graph, 3, \"08/2008\", \"01/2009\")"
   ]
  },
  {
   "cell_type": "code",
   "execution_count": 211,
   "metadata": {},
   "outputs": [],
   "source": [
    "g_networkx = graph_to_networkx(graph, 'all')"
   ]
  },
  {
   "cell_type": "code",
   "execution_count": 170,
   "metadata": {},
   "outputs": [
    {
     "data": {
      "text/plain": [
       "0.2687837960117196"
      ]
     },
     "execution_count": 170,
     "metadata": {},
     "output_type": "execute_result"
    }
   ],
   "source": [
    "#nx.closeness_centrality(g_networkx, u=3)\n",
    "g_networkx.degree()"
   ]
  },
  {
   "cell_type": "code",
   "execution_count": 18,
   "metadata": {},
   "outputs": [],
   "source": [
    "def degreeCentrality(graph, source, start, end):\n",
    "    start = convertDate(start)\n",
    "    end = convertDate(end)\n",
    "    weight = 0\n",
    "    g = graph[source].get_out_relation\n",
    "    for year in g:\n",
    "        for rel in g[year]:\n",
    "            for edge in g[year][rel]:\n",
    "                weight += edge.weight\n",
    "    return weight/(len(graph)-1)"
   ]
  },
  {
   "cell_type": "markdown",
   "metadata": {},
   "source": [
    "## Funcionality 4\n"
   ]
  },
  {
   "cell_type": "code",
   "execution_count": 78,
   "metadata": {},
   "outputs": [],
   "source": [
    "a2q = pd.read_csv('data/prova.txt',  header=None, sep=' ', quotechar='\"', error_bad_lines=False)\n",
    "a2q[2] = pd.to_datetime(a2q[2], unit='s').dt.strftime(\"%Y%m%d\").astype(int)\n",
    "a2q.drop(a2q[a2q[0] == a2q[1]].index, inplace = True)\n",
    "\n",
    "users = dict()\n",
    "users = create_graph(a2q, \"a2q\", 1, users)"
   ]
  },
  {
   "cell_type": "code",
   "execution_count": 79,
   "metadata": {},
   "outputs": [],
   "source": [
    "users[0].get_out_relation[197001]['a2q'][0].set_weight(6)   #0-1\n",
    "users[0].get_out_relation[197001]['a2q'][1].set_weight(4)   #0-4\n",
    "\n",
    "users[1].get_out_relation[197001]['a2q'][0].set_weight(1)   #1-5\n",
    "users[1].get_out_relation[197001]['a2q'][1].set_weight(3)   #1-2\n",
    "\n",
    "users[2].get_out_relation[197001]['a2q'][0].set_weight(2)   #2-3\n",
    "\n",
    "users[3].get_out_relation[197001]['a2q'][0].set_weight(5)   #3-6\n",
    "\n",
    "users[4].get_out_relation[197001]['a2q'][0].set_weight(3)   #4-1\n",
    "users[4].get_out_relation[197001]['a2q'][1].set_weight(5)   #4-3\n",
    "\n",
    "users[5].get_out_relation[197001]['a2q'][0].set_weight(5)   #5-4\n",
    "users[5].get_out_relation[197001]['a2q'][1].set_weight(1)   #5-3\n",
    "users[5].get_out_relation[197001]['a2q'][2].set_weight(4)   #5-6"
   ]
  },
  {
   "cell_type": "code",
   "execution_count": 13,
   "metadata": {},
   "outputs": [],
   "source": [
    "import copy\n",
    "\n",
    "def createResidualG(graph):\n",
    "    res = copy.deepcopy(graph)\n",
    "    for i in range(len(graph)-1):\n",
    "        x = res[i].get_out_relation[197001]['a2q']\n",
    "        for j in range(len(x)):\n",
    "            ty = \"a2q\"\n",
    "            d = x[j].time\n",
    "            s, res = get_user(x[j].target, res)\n",
    "            t, res = get_user(x[j].source, res)\n",
    "            w = 0\n",
    "            rel = Relation(ty, d, s, t, w)\n",
    "            res[i].add_in_relation(rel)\n",
    "    return res"
   ]
  },
  {
   "cell_type": "code",
   "execution_count": 14,
   "metadata": {},
   "outputs": [],
   "source": [
    "def getNeighbors2(node, graph, start, end):\n",
    "    neighbors = dict()\n",
    "    x = graph[node].get_out_relation\n",
    "    for date in x.keys():\n",
    "        if start <= date <= end:\n",
    "            for rel in x[date].keys():\n",
    "                for edge in x[date][rel]:\n",
    "                    neighbors[edge.target] = edge.weight\n",
    "    return neighbors"
   ]
  },
  {
   "cell_type": "code",
   "execution_count": 15,
   "metadata": {},
   "outputs": [],
   "source": [
    "def BFS(graph,s,t,path):\n",
    "    visited = set()\n",
    "    queue = [s]\n",
    "    visited.add(s)\n",
    "    \n",
    "    while len(queue)>0:\n",
    "        v = queue.pop(0)\n",
    "        neighbor = getNeighbors2(v,graph,197001, 197001)\n",
    "        for u in set(neighbor.keys()):\n",
    "            if u not in visited and neighbor[u] > 0:\n",
    "                queue.append(u)\n",
    "                visited.add(u)\n",
    "                path[u] = (v,neighbor[u])\n",
    "                \n",
    "    return True if t in visited else False"
   ]
  },
  {
   "cell_type": "code",
   "execution_count": 16,
   "metadata": {},
   "outputs": [],
   "source": [
    "def getBottleneck(path, source, target):\n",
    "    current_value = target\n",
    "    bottleneck = float(\"inf\")\n",
    "    while current_value != source:\n",
    "        bottleneck = min(bottleneck, path[current_value][1])\n",
    "        current_value = path[current_value][0]\n",
    "    return bottleneck"
   ]
  },
  {
   "cell_type": "code",
   "execution_count": 17,
   "metadata": {},
   "outputs": [],
   "source": [
    "def updateResGraph(graph,path, flow,s, t):\n",
    "    walk = [t]\n",
    "    current_value = t\n",
    "    while current_value != s:\n",
    "        walk.append(path[current_value][0])\n",
    "        current_value = path[current_value][0]\n",
    "    walk.reverse()\n",
    "        \n",
    "    for i in range(len(walk[:-1])):\n",
    "        el = walk[i] \n",
    "        out_ = graph[el].get_out_relation[197001]['a2q']\n",
    "        for ind in range(len(out_)):\n",
    "            if out_[ind].target == walk[i+1]:\n",
    "                w = out_[ind].weight - flow\n",
    "                out_[ind].set_weight(w)\n",
    "        \n",
    "        in_ = graph[el].get_in_relation[197001]['a2q']\n",
    "        for ind in range(len(in_)):\n",
    "            if in_[ind].source == walk[i+1]:\n",
    "                w = in_[ind].weight + flow\n",
    "                in_[ind].set_weight(w)"
   ]
  },
  {
   "cell_type": "code",
   "execution_count": 18,
   "metadata": {},
   "outputs": [],
   "source": [
    "def reachFromS(graph, source):\n",
    "    path = [-1]*(len(graph))\n",
    "    BFS(graph,source,0, path)\n",
    "    r = set([i for i in range(len(path)) if path[i] != -1])\n",
    "    r.add(source)\n",
    "    return r"
   ]
  },
  {
   "cell_type": "code",
   "execution_count": 65,
   "metadata": {},
   "outputs": [],
   "source": [
    "def minCut(graph, source, target):\n",
    "    res = createResidualG(graph)\n",
    "    max_flow = 0\n",
    "    path = [-1]*(len(graph))\n",
    "\n",
    "    while BFS(res,source,target, path):\n",
    "        bottleneck = getBottleneck(path, source, target)\n",
    "        max_flow += bottleneck\n",
    "        updateResGraph(res,path, bottleneck,source,target)\n",
    "    \n",
    "    print(\"Max Flow is:\", max_flow)\n",
    "        \n",
    "    reachable = reachFromS(res, source) \n",
    "    edges = []\n",
    "    capacity = 0\n",
    "    \n",
    "    for v in reachable:\n",
    "        x = res[v].get_out_relation[197001]['a2q']\n",
    "        y = graph[v].get_out_relation[197001]['a2q']\n",
    "        for i in range(len(x)):\n",
    "            if x[i].weight == 0 and x[i].target not in reachable:\n",
    "                edges.append((v,x[i].target))\n",
    "                capacity += y[i].weight \n",
    "                \n",
    "    print(\"Capacity is:\", capacity)\n",
    "    return edges"
   ]
  },
  {
   "cell_type": "code",
   "execution_count": 80,
   "metadata": {},
   "outputs": [
    {
     "name": "stdout",
     "output_type": "stream",
     "text": [
      "Max Flow is: 7\n",
      "Capacity is: 7\n",
      "The edges to cu if we want to disconnect 0 and 6 are: (0, 5) (1, 5) (2, 3)\n"
     ]
    }
   ],
   "source": [
    "print(\"The edges to cu if we want to disconnect\",0, \"and\", 6, \"are:\", *minCut(users, 0, 6))"
   ]
  },
  {
   "cell_type": "markdown",
   "metadata": {},
   "source": [
    "### ----- new test"
   ]
  },
  {
   "cell_type": "code",
   "execution_count": 66,
   "metadata": {},
   "outputs": [],
   "source": [
    "a2q = pd.read_csv('data/prova1.txt',  header=None, sep=' ', quotechar='\"', error_bad_lines=False)\n",
    "a2q[2] = pd.to_datetime(a2q[2], unit='s').dt.strftime(\"%Y%m%d\").astype(int)\n",
    "a2q.drop(a2q[a2q[0] == a2q[1]].index, inplace = True)\n",
    "\n",
    "users = dict()\n",
    "users = create_graph(a2q, \"a2q\", 1, users)"
   ]
  },
  {
   "cell_type": "code",
   "execution_count": 67,
   "metadata": {},
   "outputs": [],
   "source": [
    "users[0].get_out_relation[197001]['a2q'][0].set_weight(2)   #0-1\n",
    "users[0].get_out_relation[197001]['a2q'][1].set_weight(4)   #0-2\n",
    "users[0].get_out_relation[197001]['a2q'][2].set_weight(1)   #0-3\n",
    "\n",
    "users[1].get_out_relation[197001]['a2q'][0].set_weight(3)   #1-2\n",
    "users[1].get_out_relation[197001]['a2q'][1].set_weight(4)   #1-4\n",
    "\n",
    "users[2].get_out_relation[197001]['a2q'][0].set_weight(3)   #2-3\n",
    "users[2].get_out_relation[197001]['a2q'][1].set_weight(1)   #2-4\n",
    "\n",
    "users[3].get_out_relation[197001]['a2q'][0].set_weight(3)   #3-4"
   ]
  },
  {
   "cell_type": "code",
   "execution_count": 68,
   "metadata": {},
   "outputs": [
    {
     "name": "stdout",
     "output_type": "stream",
     "text": [
      "Max Flow is: 6\n",
      "Capacity is: 6\n",
      "The edges to cu if we want to disconnect 0 and 6 are: (0, 1) (2, 4) (3, 4)\n"
     ]
    }
   ],
   "source": [
    "print(\"The edges to cu if we want to disconnect\",0, \"and\", 6, \"are:\", *minCut(users, 0, 4))"
   ]
  },
  {
   "cell_type": "markdown",
   "metadata": {},
   "source": [
    "### ----- new test"
   ]
  },
  {
   "cell_type": "code",
   "execution_count": 69,
   "metadata": {},
   "outputs": [],
   "source": [
    "a2q = pd.read_csv('data/prova2.txt',  header=None, sep=' ', quotechar='\"', error_bad_lines=False)\n",
    "a2q[2] = pd.to_datetime(a2q[2], unit='s').dt.strftime(\"%Y%m%d\").astype(int)\n",
    "a2q.drop(a2q[a2q[0] == a2q[1]].index, inplace = True)\n",
    "\n",
    "users = dict()\n",
    "users = create_graph(a2q, \"a2q\", 1, users)"
   ]
  },
  {
   "cell_type": "code",
   "execution_count": 70,
   "metadata": {},
   "outputs": [],
   "source": [
    "users[0].get_out_relation[197001]['a2q'][0].set_weight(9)   #0-1\n",
    "users[0].get_out_relation[197001]['a2q'][1].set_weight(8)   #0-2\n",
    "\n",
    "users[1].get_out_relation[197001]['a2q'][0].set_weight(4)   #1-3\n",
    "users[1].get_out_relation[197001]['a2q'][1].set_weight(4)   #1-4\n",
    "\n",
    "users[2].get_out_relation[197001]['a2q'][0].set_weight(2)   #2-1\n",
    "users[2].get_out_relation[197001]['a2q'][1].set_weight(3)   #2-5\n",
    "users[2].get_out_relation[197001]['a2q'][2].set_weight(5)   #2-4\n",
    "\n",
    "users[3].get_out_relation[197001]['a2q'][0].set_weight(5)   #3-5\n",
    "\n",
    "users[4].get_out_relation[197001]['a2q'][0].set_weight(6)   #4-5"
   ]
  },
  {
   "cell_type": "code",
   "execution_count": 71,
   "metadata": {},
   "outputs": [
    {
     "name": "stdout",
     "output_type": "stream",
     "text": [
      "Max Flow is: 13\n",
      "Capacity is: 13\n",
      "The edges to cu if we want to disconnect 0 and 6 are: (1, 3) (2, 5) (4, 5)\n"
     ]
    }
   ],
   "source": [
    "print(\"The edges to cu if we want to disconnect\",0, \"and\", 6, \"are:\", *minCut(users, 0, 5))"
   ]
  },
  {
   "cell_type": "markdown",
   "metadata": {},
   "source": [
    "### ----- new test"
   ]
  },
  {
   "cell_type": "code",
   "execution_count": 72,
   "metadata": {},
   "outputs": [],
   "source": [
    "a2q = pd.read_csv('data/prova3.txt',  header=None, sep=' ', quotechar='\"', error_bad_lines=False)\n",
    "a2q[2] = pd.to_datetime(a2q[2], unit='s').dt.strftime(\"%Y%m%d\").astype(int)\n",
    "a2q.drop(a2q[a2q[0] == a2q[1]].index, inplace = True)\n",
    "\n",
    "users = dict()\n",
    "users = create_graph(a2q, \"a2q\", 1, users)"
   ]
  },
  {
   "cell_type": "code",
   "execution_count": 73,
   "metadata": {},
   "outputs": [],
   "source": [
    "users[0].get_out_relation[197001]['a2q'][0].set_weight(10)   #0-1\n",
    "users[0].get_out_relation[197001]['a2q'][1].set_weight(10)   #0-3\n",
    "\n",
    "users[1].get_out_relation[197001]['a2q'][0].set_weight(4)   #1-2\n",
    "users[1].get_out_relation[197001]['a2q'][1].set_weight(8)   #1-4\n",
    "users[1].get_out_relation[197001]['a2q'][2].set_weight(2)   #1-3\n",
    "\n",
    "users[2].get_out_relation[197001]['a2q'][0].set_weight(10)   #2-5\n",
    "\n",
    "users[3].get_out_relation[197001]['a2q'][0].set_weight(9)   #3-4\n",
    "\n",
    "users[4].get_out_relation[197001]['a2q'][0].set_weight(6)   #4-2\n",
    "users[4].get_out_relation[197001]['a2q'][1].set_weight(10)   #4-5"
   ]
  },
  {
   "cell_type": "code",
   "execution_count": 74,
   "metadata": {},
   "outputs": [
    {
     "name": "stdout",
     "output_type": "stream",
     "text": [
      "Max Flow is: 19\n",
      "Capacity is: 19\n",
      "The edges to cu if we want to disconnect 0 and 6 are: (0, 1) (3, 4)\n"
     ]
    }
   ],
   "source": [
    "print(\"The edges to cu if we want to disconnect\",0, \"and\", 6, \"are:\", *minCut(users, 0, 5))"
   ]
  },
  {
   "cell_type": "markdown",
   "metadata": {},
   "source": [
    "### ----- new test"
   ]
  },
  {
   "cell_type": "code",
   "execution_count": 75,
   "metadata": {},
   "outputs": [],
   "source": [
    "a2q = pd.read_csv('data/prova4.txt',  header=None, sep=' ', quotechar='\"', error_bad_lines=False)\n",
    "a2q[2] = pd.to_datetime(a2q[2], unit='s').dt.strftime(\"%Y%m%d\").astype(int)\n",
    "a2q.drop(a2q[a2q[0] == a2q[1]].index, inplace = True)\n",
    "\n",
    "users = dict()\n",
    "users = create_graph(a2q, \"a2q\", 1, users)"
   ]
  },
  {
   "cell_type": "code",
   "execution_count": 76,
   "metadata": {},
   "outputs": [],
   "source": [
    "users[0].get_out_relation[197001]['a2q'][0].set_weight(10)   #0-1\n",
    "users[0].get_out_relation[197001]['a2q'][1].set_weight(10)   #0-2\n",
    "\n",
    "users[1].get_out_relation[197001]['a2q'][0].set_weight(25)   #1-4\n",
    "\n",
    "users[2].get_out_relation[197001]['a2q'][0].set_weight(15)   #2-3\n",
    "\n",
    "users[3].get_out_relation[197001]['a2q'][0].set_weight(6)   #3-1\n",
    "users[3].get_out_relation[197001]['a2q'][1].set_weight(10)   #3-5\n",
    "\n",
    "users[4].get_out_relation[197001]['a2q'][0].set_weight(10)   #4-5"
   ]
  },
  {
   "cell_type": "code",
   "execution_count": 77,
   "metadata": {},
   "outputs": [
    {
     "name": "stdout",
     "output_type": "stream",
     "text": [
      "Max Flow is: 20\n",
      "Capacity is: 20\n",
      "The edges to cu if we want to disconnect 0 and 6 are: (0, 1) (0, 2)\n"
     ]
    }
   ],
   "source": [
    "print(\"The edges to cu if we want to disconnect\",0, \"and\", 6, \"are:\", *minCut(users, 0, 5))"
   ]
  },
  {
   "cell_type": "markdown",
   "metadata": {},
   "source": [
    "## Visualizzazione 3\n"
   ]
  },
  {
   "cell_type": "code",
   "execution_count": 20,
   "metadata": {},
   "outputs": [
    {
     "data": {
      "text/plain": [
       "'Name: \\nType: DiGraph\\nNumber of nodes: 91\\nNumber of edges: 378\\nAverage in degree:   4.1538\\nAverage out degree:   4.1538'"
      ]
     },
     "execution_count": 20,
     "metadata": {},
     "output_type": "execute_result"
    }
   ],
   "source": [
    "import networkx as nx\n",
    "\n",
    "with open('graph (1).pickle', 'rb') as handle:\n",
    "    graph = pickle.load(handle)\n",
    "    \n",
    "G = networkx_to_subgraph(graph,[1, 49, 17, 49],start = 200808, end = 200812)\n",
    "nx.info(G)"
   ]
  },
  {
   "cell_type": "code",
   "execution_count": 21,
   "metadata": {},
   "outputs": [],
   "source": [
    "\n",
    "def graph_to_networkx(graph, type_graph): \n",
    "    \"\"\"\n",
    "    Trasform the our graph in Networkx object\n",
    "    \n",
    "            Parameters:\n",
    "                    graph (dict): as a key we have the user ID and as a value we have the class associate of the User \n",
    "                    type_graph(string): the type of graph that we want to obtain (c2a, c2q, a2q), NOTE: if type_graph is all, this mean we must to add all type of node\n",
    "    \n",
    "            Returns:\n",
    "                    G(networkx): the graph\n",
    "    \n",
    "    \"\"\"\n",
    "\n",
    "    G = nx.DiGraph()\n",
    "    for user in graph:\n",
    "        for year in graph[user].get_out_relation:\n",
    "            for type_relation in graph[user].get_out_relation[year]:\n",
    "                if type_relation == type_graph or type_graph.lower() == 'all':\n",
    "                    for relation in graph[user].get_out_relation[year][type_relation]:\n",
    "                    #create node\n",
    "                        G.add_nodes_from([user, relation.target])\n",
    "                        # create edge\n",
    "                        G.add_edge(user, relation.target, weight=relation.weight, time=year)\n",
    "    return G"
   ]
  },
  {
   "cell_type": "code",
   "execution_count": 22,
   "metadata": {},
   "outputs": [],
   "source": [
    "import random\n",
    "import math\n",
    "\n",
    "def networkx_to_subgraph(graph,path, start, end):\n",
    "    \n",
    "    # transforming our graph in netwrokx graph\n",
    "    G = graph_to_networkx(graph, \"all\")\n",
    "    perc = 0.3\n",
    "    nodes = [*set(path)]\n",
    "    \n",
    "    for user in path:\n",
    "        neighbor = list(getNeighbors(user,graph, start, end))\n",
    "        nodes.extend(random.sample(neighbor,math.ceil(perc * len(neighbor))))\n",
    "        \n",
    "    return G.subgraph(nodes)"
   ]
  },
  {
   "cell_type": "code",
   "execution_count": 23,
   "metadata": {},
   "outputs": [],
   "source": [
    "def getEdges(G, path):\n",
    "    e1 = []\n",
    "    e2 = []\n",
    "    e3 = []   \n",
    "    edge_path1 = []\n",
    "    edge_path2 = []\n",
    "    edge_path3 = []\n",
    "    \n",
    "    edge_path = []\n",
    "    \n",
    "    for i in range(len(path)-1):\n",
    "        edge_path.append((path[i],path[i+1]))\n",
    "\n",
    "    for (x, y, w) in G.edges(data = True):\n",
    "        if x != y and w[\"weight\"] == 1:\n",
    "            e1.append((x,y))\n",
    "            if (x,y) in edge_path:\n",
    "                edge_path1.append((x,y))             \n",
    "        elif x != y and w[\"weight\"] == 2:\n",
    "            e2.append((x,y))\n",
    "            if (x,y) in edge_path:\n",
    "                edge_path2.append((x,y))                     \n",
    "        elif x != y and w[\"weight\"] == 3:\n",
    "            e3.append((x,y))       \n",
    "            if (x,y) in edge_path:\n",
    "                edge_path3.append((x,y))  \n",
    "                \n",
    "    return e1, e2, e3, edge_path1, edge_path2, edge_path3"
   ]
  },
  {
   "cell_type": "code",
   "execution_count": 58,
   "metadata": {},
   "outputs": [],
   "source": [
    "def visualizationGeneralShortestPath(G,path, start, end, k ,seed):\n",
    "    \n",
    "    G = networkx_to_subgraph(G,path, start, end)\n",
    "    plt.figure(figsize = (20,15))\n",
    "\n",
    "    pos = nx.spring_layout(G, k = k, iterations=20, seed = seed)\n",
    "    \n",
    "    nodes = G.nodes\n",
    "    e1, e2, e3, edge_path1, edge_path2, edge_path3 = getEdges(G, path)\n",
    "    start_node = path[:1]\n",
    "    end_node = path[-1:]\n",
    "    rem = {start_node[0],end_node[0]}\n",
    "    path = set(path) - rem\n",
    "    \n",
    "    nx.draw_networkx_nodes(G, pos, node_size = math.ceil(800*40/len(nodes)), nodelist = set(nodes) - set(path) - rem, alpha = 1, node_color = \"white\", label = \"neighbour nods\", edgecolors = \"black\")\n",
    "    \n",
    "    nx.draw_networkx_nodes(G, pos, node_size = math.ceil(1000*50/len(nodes)), nodelist = path, alpha = 0.6, node_color = \"orange\", label = \"path nodes\",edgecolors = \"darkred\")\n",
    "    \n",
    "    nx.draw_networkx_nodes(G, pos, node_size = math.ceil(1300*50/len(nodes)), nodelist = start_node,alpha = 0.8, node_color = \"gold\", label = \"start node\",edgecolors = \"darkorange\")\n",
    "    \n",
    "    nx.draw_networkx_nodes(G, pos, node_size = math.ceil(1300*50/len(nodes)), nodelist = end_node, alpha = 0.5, node_color = \"red\", label = \"end node\",edgecolors = \"darkred\")\n",
    "    \n",
    "    font = math.ceil(25*30/len(nodes)) if len(nodes) > 30 else 18\n",
    "    labels = nx.draw_networkx_labels(G,pos,{i: i for i in (set(path).union(rem))},font_size = font,font_color='black')\n",
    "\n",
    "    nx.draw_networkx_edges(G,pos, edgelist = e1, width = round(0.4*30/len(nodes),1), arrowstyle = \"-|>\", arrowsize = 8, edge_color = \"gray\", alpha = 1,connectionstyle = \"Arc3, rad=0.6\" , node_size = math.ceil(1000*50/len(nodes)), label = \"ciao\" )\n",
    "    \n",
    "    nx.draw_networkx_edges(G,pos, edgelist = e2, width = round(0.8*30/len(nodes),1), arrowstyle = \"-|>\", arrowsize = 8, edge_color = \"gray\", alpha = 1,connectionstyle = \"Arc3, rad=-0.2\", node_size = math.ceil(1000*50/len(nodes)), label = \"ciao\" )\n",
    "    \n",
    "    nx.draw_networkx_edges(G,pos, edgelist = e3, width = round(1.2*30/len(nodes),1), arrowstyle = \"-|>\", arrowsize = 8, edge_color = \"gray\", alpha = 1,connectionstyle = \"Arc3, rad=0.2\" , node_size = math.ceil(1000*50/len(nodes)), label = \"ciao\" )\n",
    "    \n",
    "    nx.draw_networkx_edges(G,pos, edgelist = edge_path1, width = round(1.5*30/len(nodes),1), arrowstyle = \"-|>\", arrowsize = 15, edge_color = \"black\", alpha = 1,connectionstyle = \"Arc3, rad=0.2\" , node_size = math.ceil(1400*50/len(nodes)), label = \"ciao\" )\n",
    "    \n",
    "    nx.draw_networkx_edges(G,pos, edgelist = edge_path2, width = round(1.5*30/len(nodes),1), arrowstyle = \"-|>\", arrowsize = 15, edge_color = \"black\", alpha = 1,connectionstyle = \"Arc3, rad=-0.2\" , node_size = math.ceil(1400*50/len(nodes)), label = \"ciao\" )\n",
    "    \n",
    "    nx.draw_networkx_edges(G,pos, edgelist = edge_path3, width = round(1.5*30/len(nodes),1), arrowstyle = \"-|>\", arrowsize = 15, edge_color = \"black\", alpha = 1,connectionstyle = \"Arc3, rad=0.2\" , node_size = math.ceil(1400*50/len(nodes)), label = \"ciao\" )\n",
    "    \n",
    "    plt.axis(\"off\")\n",
    "    plt.legend(fontsize = 15, markerscale = 0.5)\n",
    "    plt.show()"
   ]
  },
  {
   "cell_type": "code",
   "execution_count": 143,
   "metadata": {},
   "outputs": [],
   "source": [
    "def visualizationShortestPath(G,path):\n",
    "    G = graph_to_networkx(G, \"all\")\n",
    "    plt.figure(figsize = (10,8))\n",
    "    walk = [*range(0,len(path))]\n",
    "    newG = nx.DiGraph()\n",
    "    edges = []\n",
    "    e1 = []\n",
    "    e2 = []\n",
    "    e3 = []   \n",
    "    \n",
    "    for i in range(len(path[:-1])):\n",
    "        el1 = path[i]\n",
    "        el2 = path[i+1]\n",
    "        for (x, y, w) in G.edges(data = True):\n",
    "            if x == el1 and y == el2:\n",
    "                edges.append((i,i+1,w))\n",
    "                \n",
    "    newG.add_edges_from(edges)\n",
    "    \n",
    "    for (x, y, w) in newG.edges(data = True):\n",
    "        if x != y and w[\"weight\"] == 1:\n",
    "            e1.append((x,y))\n",
    "        elif x != y and w[\"weight\"] == 2:\n",
    "            e2.append((x,y))             \n",
    "        elif x != y and w[\"weight\"] == 3:\n",
    "            e3.append((x,y)) \n",
    "\n",
    "    pos = {i : [i%4,i//4] for i in walk}\n",
    "    \n",
    "    nx.draw_networkx_nodes(newG, pos, node_size = 1800, nodelist = walk[1:-1], alpha = 0.6, node_color = \"orange\", label = \"path nodes\",edgecolors = \"darkred\")\n",
    "    \n",
    "    nx.draw_networkx_nodes(newG, pos, node_size = 2000, nodelist = [0],alpha = 0.8, node_color = \"gold\", label = \"start node\",edgecolors = \"darkorange\")\n",
    "    \n",
    "    nx.draw_networkx_nodes(newG, pos, node_size = 2000, nodelist = walk[-1:], alpha = 0.5, node_color = \"red\", label = \"path nodes\",edgecolors = \"darkred\")\n",
    "    \n",
    "    labels = nx.draw_networkx_labels(newG,pos,{i: path[i] for i in walk},font_size = 20,font_color='black')\n",
    "\n",
    "    labels1 = nx.draw_networkx_edge_labels(newG,pos,edge_labels = {i: 1 for i in e1},font_size = 18,font_color='black')\n",
    "    \n",
    "    labels2 = nx.draw_networkx_edge_labels(newG,pos,edge_labels = {i: 2 for i in e2},font_size = 18,font_color='black')\n",
    "    \n",
    "    labels3 = nx.draw_networkx_edge_labels(newG,pos,edge_labels = {i: 3 for i in e3},font_size = 18,font_color='black')\n",
    "    \n",
    "    nx.draw_networkx_edges(G,pos, edgelist = edges, width = 3, arrowstyle = \"-|>\", arrowsize = 15, edge_color = \"black\", alpha = 1 , node_size = 2100, label = \"ciao\" )\n",
    "    \n",
    "    plt.axis(\"off\")\n",
    "    plt.show()"
   ]
  },
  {
   "cell_type": "code",
   "execution_count": 128,
   "metadata": {},
   "outputs": [],
   "source": [
    "def visualization3(graph,path,start,end,k,seed):\n",
    "    \n",
    "    visualizationGeneralShortestPath(graph,path,start,end,k,seed)\n",
    "    \n",
    "    visualizationShortestPath(graph,path)"
   ]
  },
  {
   "cell_type": "code",
   "execution_count": 132,
   "metadata": {},
   "outputs": [
    {
     "data": {
      "image/png": "[encoded data removed]",
      "text/plain": [
       "<Figure size 720x576 with 1 Axes>"
      ]
     },
     "metadata": {},
     "output_type": "display_data"
    },
    {
     "data": {
      "image/png": "[encoded data removed]",
      "text/plain": [
       "<Figure size 720x576 with 1 Axes>"
      ]
     },
     "metadata": {},
     "output_type": "display_data"
    }
   ],
   "source": [
    "visualization3(graph,[1, 49, 17, 49], 200808, 200812, k = 0.8 ,seed = 125)"
   ]
  },
  {
   "cell_type": "code",
   "execution_count": null,
   "metadata": {},
   "outputs": [],
   "source": [
    "def visualization4(graph, soruce, target, k, seed,cut):\n",
    "    G = graph_to_networkx(G, \"all\")\n",
    "    plt.figure(figsize = (20,15))\n",
    "\n",
    "    pos = nx.spring_layout(G, k = k, iterations=20, seed = seed)\n",
    "    \n",
    "    nodes = G.nodes\n",
    "    e1, e2, e3, _, _, _ = getEdges(G, [])\n",
    "    \n",
    "    nx.draw_networkx_nodes(G, pos, node_size = math.ceil(800*40/len(nodes)), nodelist = set(nodes) - set(source,target), alpha = 1, node_color = \"white\", label = \"neighbour nods\", edgecolors = \"black\")\n",
    "        \n",
    "    nx.draw_networkx_nodes(G, pos, node_size = math.ceil(1300*50/len(nodes)), nodelist = [source,target],alpha = 0.8, node_color = \"gold\", label = \"start node\",edgecolors = \"darkorange\")    \n",
    "    \n",
    "    font = math.ceil(25*30/len(nodes)) if len(nodes) > 30 else 18\n",
    "    labels = nx.draw_networkx_labels(G,pos,{i: i for i in [source,target]},font_size = font,font_color='black')\n",
    "\n",
    "    nx.draw_networkx_edges(G,pos, edgelist = e1, width = round(0.4*30/len(nodes),1), arrowstyle = \"-|>\", arrowsize = 8, edge_color = \"gray\", alpha = 1,connectionstyle = \"Arc3, rad=0.6\" , node_size = math.ceil(1000*50/len(nodes)))\n",
    "    \n",
    "    nx.draw_networkx_edges(G,pos, edgelist = e2, width = round(0.8*30/len(nodes),1), arrowstyle = \"-|>\", arrowsize = 8, edge_color = \"gray\", alpha = 1,connectionstyle = \"Arc3, rad=-0.2\", node_size = math.ceil(1000*50/len(nodes)))\n",
    "    \n",
    "    nx.draw_networkx_edges(G,pos, edgelist = e3, width = round(1.2*30/len(nodes),1), arrowstyle = \"-|>\", arrowsize = 8, edge_color = \"gray\", alpha = 1,connectionstyle = \"Arc3, rad=0.2\" , node_size = math.ceil(1000*50/len(nodes)))\n",
    " \n",
    "    nx.draw_networkx_edges(G,pos, edgelist = cut, width = round(1.5*30/len(nodes),1), arrowstyle = \"-|>\", arrowsize = 10, edge_color = \"red\", alpha = 1,connectionstyle = \"Arc3, rad=0.2\" , node_size = math.ceil(1400*50/len(nodes)))\n",
    "\n",
    "    plt.axis(\"off\")\n",
    "    plt.show()"
   ]
  },
  {
   "cell_type": "code",
   "execution_count": null,
   "metadata": {},
   "outputs": [],
   "source": [
    "pos = {0: [1,0], 1: [0,1], 2: [2,1], 3: [0,2], 4: [2,2], 6: [1,3]}"
   ]
  },
  {
   "cell_type": "markdown",
   "metadata": {},
   "source": [
    "Then we decided to test our algorithm on the graph we are working on. In order to get a tidier picture we choose to display only the nodes reachable from the source and not the graph in its entirety. \n",
    "\n",
    "We can see in this picture that we want to disconnect the two golden nodes wich are : ###### . To do this we run our max flow - min cut algorithm that tells us that if we want to disconnect the two previous nodes, we need to remove only 2 edges that are represented in red, they are: ##########"
   ]
  }
 ],
 "metadata": {
  "application/vnd.databricks.v1+notebook": {
   "dashboards": [],
   "language": "python",
   "notebookMetadata": {
    "pythonIndentUnit": 2
   },
   "notebookName": "Classification",
   "notebookOrigID": 3966539020232142,
   "widgets": {}
  },
  "colab": {
   "collapsed_sections": [],
   "machine_shape": "hm",
   "name": "ADM HW5_Andrea.ipynb",
   "provenance": [],
   "toc_visible": true
  },
  "kernelspec": {
   "display_name": "Python 3",
   "language": "python",
   "name": "python3"
  },
  "language_info": {
   "codemirror_mode": {
    "name": "ipython",
    "version": 3
   },
   "file_extension": ".py",
   "mimetype": "text/x-python",
   "name": "python",
   "nbconvert_exporter": "python",
   "pygments_lexer": "ipython3",
   "version": "3.8.8"
  }
 },
 "nbformat": 4,
 "nbformat_minor": 1
}
